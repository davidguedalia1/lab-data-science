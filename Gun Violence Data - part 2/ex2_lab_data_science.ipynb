{
  "nbformat": 4,
  "nbformat_minor": 0,
  "metadata": {
    "colab": {
      "provenance": []
    },
    "kernelspec": {
      "name": "python3",
      "display_name": "Python 3"
    },
    "language_info": {
      "name": "python"
    }
  },
  "cells": [
    {
      "cell_type": "markdown",
      "source": [
        "#Applied Competitive Lab in Data Science\n",
        "##Exercise 1\n",
        "David Guedalia"
      ],
      "metadata": {
        "id": "Lmf8nZ_22q1T"
      }
    },
    {
      "cell_type": "code",
      "execution_count": 172,
      "metadata": {
        "id": "LsKzlohG0TxM"
      },
      "outputs": [],
      "source": [
        "import pandas as pd\n",
        "import numpy as np\n",
        "from matplotlib import pyplot as plt\n",
        "from sklearn.model_selection import train_test_split\n",
        "from sklearn.ensemble import RandomForestRegressor\n",
        "import seaborn as sns\n",
        "from sklearn.linear_model import LinearRegression\n",
        "from sklearn.metrics import mean_squared_error"
      ]
    },
    {
      "cell_type": "markdown",
      "source": [
        "#Question 1"
      ],
      "metadata": {
        "id": "CYn9ZfRf3Hw_"
      }
    },
    {
      "cell_type": "code",
      "source": [
        "df1 = pd.read_csv(\"ex1.csv\")"
      ],
      "metadata": {
        "id": "D7MJGgrL0b_E"
      },
      "execution_count": 173,
      "outputs": []
    },
    {
      "cell_type": "markdown",
      "source": [
        "##(a)"
      ],
      "metadata": {
        "id": "52x46wv03PHC"
      }
    },
    {
      "cell_type": "markdown",
      "source": [
        "I decided first to fill the caegorial feature to improve the contniues feature."
      ],
      "metadata": {
        "id": "K7hLqtLtfdFn"
      }
    },
    {
      "cell_type": "markdown",
      "source": [
        "###Categorial Feature"
      ],
      "metadata": {
        "id": "gmnWKkq2e71u"
      }
    },
    {
      "cell_type": "markdown",
      "source": [
        "I decided to Congressional District feature, because we can use state feature, as it according to this feature, so we can take the mode of the state and the city."
      ],
      "metadata": {
        "id": "T9UdRhdlhZ9u"
      }
    },
    {
      "cell_type": "code",
      "source": [
        "general_mode = df1['congressional_district'].mode()"
      ],
      "metadata": {
        "id": "8YIcv2ESTTlN"
      },
      "execution_count": 174,
      "outputs": []
    },
    {
      "cell_type": "code",
      "source": [
        "def mode_congressional_district(x):\n",
        "    if x.mode().empty:\n",
        "        return general_mode\n",
        "    return x.mode()[0]"
      ],
      "metadata": {
        "id": "mM_SlMHIlC5o"
      },
      "execution_count": 175,
      "outputs": []
    },
    {
      "cell_type": "code",
      "source": [
        "predict_district = df1.groupby(['state', 'city_or_county']).agg({'congressional_district': lambda x: mode_congressional_district(x)}).reset_index().rename(columns={'congressional_district': 'predict_district'})"
      ],
      "metadata": {
        "id": "OYswjTOgHKQL"
      },
      "execution_count": 176,
      "outputs": []
    },
    {
      "cell_type": "code",
      "source": [
        "df1 = df1.merge(predict_district, on=['state', 'city_or_county'], how='left')"
      ],
      "metadata": {
        "id": "Z1frCm80jJy7"
      },
      "execution_count": 177,
      "outputs": []
    },
    {
      "cell_type": "code",
      "source": [
        "df1.loc[df1['congressional_district'].isnull(),'congressional_district'] = df1['predict_district']"
      ],
      "metadata": {
        "id": "dniWR1U0nwm_"
      },
      "execution_count": 178,
      "outputs": []
    },
    {
      "cell_type": "code",
      "source": [
        "df1 = df1.drop(columns=['predict_district'])"
      ],
      "metadata": {
        "id": "fsX4R444jK3l"
      },
      "execution_count": 179,
      "outputs": []
    },
    {
      "cell_type": "code",
      "source": [
        "df1['congressional_district'].isna().sum()"
      ],
      "metadata": {
        "colab": {
          "base_uri": "https://localhost:8080/"
        },
        "id": "smwrIq5eklD4",
        "outputId": "6c88e286-812b-425f-829e-d12982d6ccdc"
      },
      "execution_count": 180,
      "outputs": [
        {
          "output_type": "execute_result",
          "data": {
            "text/plain": [
              "0"
            ]
          },
          "metadata": {},
          "execution_count": 180
        }
      ]
    },
    {
      "cell_type": "markdown",
      "source": [
        "###Continuous Feature"
      ],
      "metadata": {
        "id": "NsG8OYBHfQi_"
      }
    },
    {
      "cell_type": "markdown",
      "source": [
        "I decided to Latitude feature, because we can use state feature, city_or_county, and longitude as well, so we can take the mode of the state and the city."
      ],
      "metadata": {
        "id": "lOWPlYkKYLFV"
      }
    },
    {
      "cell_type": "code",
      "source": [
        "df1.isnull().sum()"
      ],
      "metadata": {
        "colab": {
          "base_uri": "https://localhost:8080/"
        },
        "id": "Kap1HQ692wPU",
        "outputId": "d6f47351-833a-4ad6-8726-b33eee82d9f5"
      },
      "execution_count": 181,
      "outputs": [
        {
          "output_type": "execute_result",
          "data": {
            "text/plain": [
              "Unnamed: 0                      0\n",
              "incident_id                     0\n",
              "date                            0\n",
              "state                           0\n",
              "city_or_county                  0\n",
              "address                      1640\n",
              "n_killed                        0\n",
              "n_injured                       0\n",
              "congressional_district          0\n",
              "gun_stolen                   9952\n",
              "gun_type                     9950\n",
              "incident_characteristics       29\n",
              "latitude                      629\n",
              "location_description        19817\n",
              "longitude                     775\n",
              "n_guns_involved              9950\n",
              "notes                        7967\n",
              "participant_age              9203\n",
              "participant_age_group        4185\n",
              "participant_gender           3599\n",
              "participant_name            12332\n",
              "participant_relationship    22365\n",
              "participant_status           2784\n",
              "participant_type             2523\n",
              "state_house_district         3953\n",
              "state_senate_district        3285\n",
              "dtype: int64"
            ]
          },
          "metadata": {},
          "execution_count": 181
        }
      ]
    },
    {
      "cell_type": "code",
      "source": [
        "def fix_longitude():\n",
        "    df1[\"longitude\"] = df1[\"longitude\"].apply(lambda x : x if -180 <= float(x) <= 80 else df1[\"longitude\"].mode()[0])"
      ],
      "metadata": {
        "id": "K7MF4X5CXFFs"
      },
      "execution_count": 182,
      "outputs": []
    },
    {
      "cell_type": "code",
      "source": [
        "fix_longitude()"
      ],
      "metadata": {
        "id": "JvF1t9F8XUTN"
      },
      "execution_count": 183,
      "outputs": []
    },
    {
      "cell_type": "code",
      "source": [
        "def to_float(x):\n",
        "  try:\n",
        "    return float(x)\n",
        "  except:\n",
        "    return np.nan"
      ],
      "metadata": {
        "id": "ZaQJXKdOiQCM"
      },
      "execution_count": 184,
      "outputs": []
    },
    {
      "cell_type": "code",
      "source": [
        "df1[\"latitude\"] = df1[\"latitude\"].apply(lambda x: to_float(x))"
      ],
      "metadata": {
        "id": "QguzmszxWEPV"
      },
      "execution_count": 185,
      "outputs": []
    },
    {
      "cell_type": "code",
      "source": [
        "def fix_n_kiled():\n",
        "  df1['n_killed'] = df1['n_killed'].apply(lambda x: abs(x))"
      ],
      "metadata": {
        "id": "LT8uTZmiVJiF"
      },
      "execution_count": 186,
      "outputs": []
    },
    {
      "cell_type": "code",
      "source": [
        "def fix_n_injured():\n",
        "  df1['n_injured'] = df1['n_injured'].apply(lambda x: abs(x))"
      ],
      "metadata": {
        "id": "mkViVm_MVYhy"
      },
      "execution_count": 187,
      "outputs": []
    },
    {
      "cell_type": "code",
      "source": [
        "fix_n_kiled()"
      ],
      "metadata": {
        "id": "0xgX75opVBTJ"
      },
      "execution_count": 188,
      "outputs": []
    },
    {
      "cell_type": "code",
      "source": [
        "fix_n_injured()"
      ],
      "metadata": {
        "id": "7i1x0_OfVc-V"
      },
      "execution_count": 189,
      "outputs": []
    },
    {
      "cell_type": "code",
      "source": [
        "X = df1[['state', 'city_or_county', 'n_killed', 'n_injured', 'latitude', \"longitude\", \"congressional_district\"]]\n",
        "X = pd.get_dummies(X,columns=['state', 'city_or_county'],drop_first=True)\n",
        "X_lat = X[X['latitude'].notna()]\n",
        "y_lat = X_lat['latitude']\n",
        "X_lat = X_lat.drop(columns=['latitude'])"
      ],
      "metadata": {
        "id": "caDdIo2BNEqg"
      },
      "execution_count": 190,
      "outputs": []
    },
    {
      "cell_type": "code",
      "source": [
        "X_train, X_test, y_train, y_test = train_test_split(X_lat, y_lat, test_size=0.25)"
      ],
      "metadata": {
        "id": "GmAYrnymNHY9"
      },
      "execution_count": 191,
      "outputs": []
    },
    {
      "cell_type": "code",
      "source": [
        "rf = RandomForestRegressor(100, max_depth=15)"
      ],
      "metadata": {
        "id": "xNs7Vr6aQhJk"
      },
      "execution_count": 192,
      "outputs": []
    },
    {
      "cell_type": "code",
      "source": [
        "rf.fit(X_train, y_train)"
      ],
      "metadata": {
        "colab": {
          "base_uri": "https://localhost:8080/"
        },
        "id": "MsBpQ4l9Qifb",
        "outputId": "45c7d075-ca04-4eb8-bfbf-483cdccf3837"
      },
      "execution_count": 193,
      "outputs": [
        {
          "output_type": "execute_result",
          "data": {
            "text/plain": [
              "RandomForestRegressor(max_depth=15)"
            ]
          },
          "metadata": {},
          "execution_count": 193
        }
      ]
    },
    {
      "cell_type": "code",
      "source": [
        "rf.score(X_train, y_train)"
      ],
      "metadata": {
        "colab": {
          "base_uri": "https://localhost:8080/"
        },
        "id": "hSoiJehjQkKX",
        "outputId": "d006b4a7-e052-4fe6-a6bf-925f3c898099"
      },
      "execution_count": 194,
      "outputs": [
        {
          "output_type": "execute_result",
          "data": {
            "text/plain": [
              "0.6767250153125117"
            ]
          },
          "metadata": {},
          "execution_count": 194
        }
      ]
    },
    {
      "cell_type": "code",
      "source": [
        "X['predict_latitude'] = rf.predict(X.drop(columns=['latitude']))"
      ],
      "metadata": {
        "id": "eUOphBfsIITd"
      },
      "execution_count": 195,
      "outputs": []
    },
    {
      "cell_type": "code",
      "source": [
        "df1.loc[df1['latitude'].isnull(),'latitude'] = X['predict_latitude']"
      ],
      "metadata": {
        "id": "P7KtkwMeH5mW"
      },
      "execution_count": 196,
      "outputs": []
    },
    {
      "cell_type": "markdown",
      "source": [
        "There's no null values anymore on latitude. "
      ],
      "metadata": {
        "id": "-HQL1tSLIp_H"
      }
    },
    {
      "cell_type": "markdown",
      "source": [
        "##(b)"
      ],
      "metadata": {
        "id": "juqurRLKmWwp"
      }
    },
    {
      "cell_type": "markdown",
      "source": [
        "I decided n_guns_involved as we can see there are few values are common, and after the 10 it becomes rare values as the 10 value have only 13 times."
      ],
      "metadata": {
        "id": "euP8HLAyI8Pm"
      }
    },
    {
      "cell_type": "code",
      "source": [
        "df1['n_guns_involved'].value_counts()"
      ],
      "metadata": {
        "colab": {
          "base_uri": "https://localhost:8080/"
        },
        "id": "rpQe1jiJmZLi",
        "outputId": "e343a2aa-d073-4b2d-caab-0d80a2ca32a9"
      },
      "execution_count": 197,
      "outputs": [
        {
          "output_type": "execute_result",
          "data": {
            "text/plain": [
              "1.0      12747\n",
              "2.0        737\n",
              "3.0        208\n",
              "4.0         78\n",
              "5.0         45\n",
              "7.0         31\n",
              "6.0         28\n",
              "9.0         23\n",
              "8.0         21\n",
              "10.0        13\n",
              "14.0        10\n",
              "17.0         8\n",
              "12.0         8\n",
              "13.0         5\n",
              "34.0         4\n",
              "15.0         4\n",
              "11.0         3\n",
              "16.0         3\n",
              "48.0         3\n",
              "40.0         2\n",
              "30.0         2\n",
              "26.0         2\n",
              "22.0         2\n",
              "25.0         2\n",
              "81.0         2\n",
              "28.0         2\n",
              "20.0         2\n",
              "27.0         2\n",
              "43.0         1\n",
              "138.0        1\n",
              "18.0         1\n",
              "73.0         1\n",
              "85.0         1\n",
              "60.0         1\n",
              "346.0        1\n",
              "21.0         1\n",
              "29.0         1\n",
              "23.0         1\n",
              "32.0         1\n",
              "41.0         1\n",
              "50.0         1\n",
              "103.0        1\n",
              "24.0         1\n",
              "35.0         1\n",
              "45.0         1\n",
              "183.0        1\n",
              "19.0         1\n",
              "96.0         1\n",
              "Name: n_guns_involved, dtype: int64"
            ]
          },
          "metadata": {},
          "execution_count": 197
        }
      ]
    },
    {
      "cell_type": "code",
      "source": [
        "general_mode = df1['n_guns_involved'].mode()"
      ],
      "metadata": {
        "id": "Es3O7VPJJ1gD"
      },
      "execution_count": 198,
      "outputs": []
    },
    {
      "cell_type": "code",
      "source": [
        "def mode_n_guns_involved(x):\n",
        "    if x.mode().empty:\n",
        "        return general_mode\n",
        "    return x.mode()[0]"
      ],
      "metadata": {
        "id": "42ofY3AVJ5zu"
      },
      "execution_count": 199,
      "outputs": []
    },
    {
      "cell_type": "code",
      "source": [
        "predict_n_guns_involved = df1.groupby(['n_killed', 'n_injured']).agg({'n_guns_involved': lambda x: mode_n_guns_involved(x)}).reset_index().rename(columns={'n_guns_involved': 'predict_n_guns_involved'})"
      ],
      "metadata": {
        "id": "TbURU1xvKDOW"
      },
      "execution_count": 200,
      "outputs": []
    },
    {
      "cell_type": "code",
      "source": [
        "df1 = df1.merge(predict_n_guns_involved, on=['n_killed', 'n_injured'], how='left')\n",
        "df1.loc[df1['n_guns_involved'].isnull(),'n_guns_involved'] = df1['predict_n_guns_involved']\n",
        "df1 = df1.drop(columns=['predict_n_guns_involved'])\n",
        "df1['n_guns_involved'].isna().sum()"
      ],
      "metadata": {
        "colab": {
          "base_uri": "https://localhost:8080/"
        },
        "id": "OIXtemdjKR7B",
        "outputId": "e5035f02-3e57-4994-8734-31a0769cd6bf"
      },
      "execution_count": 201,
      "outputs": [
        {
          "output_type": "execute_result",
          "data": {
            "text/plain": [
              "0"
            ]
          },
          "metadata": {},
          "execution_count": 201
        }
      ]
    },
    {
      "cell_type": "code",
      "source": [
        "list_to_ten = list(range(1, 10))\n",
        "def binning_n_guns(x):\n",
        "    if x in list_to_ten:\n",
        "        return str(x)\n",
        "    return \"10 or more\""
      ],
      "metadata": {
        "id": "OtT0hIdnnafR"
      },
      "execution_count": 202,
      "outputs": []
    },
    {
      "cell_type": "code",
      "source": [
        "df1[\"n_guns_involved\"] = df1[\"n_guns_involved\"].apply(lambda x:binning_n_guns(x))"
      ],
      "metadata": {
        "id": "yKlJkYQNnQVn"
      },
      "execution_count": 203,
      "outputs": []
    },
    {
      "cell_type": "code",
      "source": [
        "df1['n_guns_involved'].value_counts()"
      ],
      "metadata": {
        "colab": {
          "base_uri": "https://localhost:8080/"
        },
        "id": "RyxrzQ65LfCW",
        "outputId": "232c2fcb-0168-4c14-c53b-4f95bd1af7ba"
      },
      "execution_count": 204,
      "outputs": [
        {
          "output_type": "execute_result",
          "data": {
            "text/plain": [
              "1.0           22697\n",
              "2.0             737\n",
              "3.0             208\n",
              "10 or more       99\n",
              "4.0              78\n",
              "5.0              45\n",
              "7.0              31\n",
              "6.0              28\n",
              "9.0              23\n",
              "8.0              21\n",
              "Name: n_guns_involved, dtype: int64"
            ]
          },
          "metadata": {},
          "execution_count": 204
        }
      ]
    },
    {
      "cell_type": "code",
      "source": [
        "ax = sns.countplot(\"n_guns_involved\",data=df1)\n",
        "ax.set_title(\"Number guns involved\")\n",
        "ax.set_xticklabels(ax.get_xticklabels(), rotation=90)\n",
        "plt.show()"
      ],
      "metadata": {
        "colab": {
          "base_uri": "https://localhost:8080/",
          "height": 0
        },
        "id": "2cdyjDg0L3Eq",
        "outputId": "01ee132b-15a9-411e-d5e4-df157875bc8a"
      },
      "execution_count": 205,
      "outputs": [
        {
          "output_type": "stream",
          "name": "stderr",
          "text": [
            "/usr/local/lib/python3.7/dist-packages/seaborn/_decorators.py:43: FutureWarning: Pass the following variable as a keyword arg: x. From version 0.12, the only valid positional argument will be `data`, and passing other arguments without an explicit keyword will result in an error or misinterpretation.\n",
            "  FutureWarning\n"
          ]
        },
        {
          "output_type": "display_data",
          "data": {
            "text/plain": [
              "<Figure size 432x288 with 1 Axes>"
            ],
            "image/png": "[encoded data removed]"
          },
          "metadata": {
            "needs_background": "light"
          }
        }
      ]
    },
    {
      "cell_type": "markdown",
      "source": [
        "We have new feature called - more then 10, I decided more then 10 because it make sence and there it became rare values."
      ],
      "metadata": {
        "id": "ao84L0a0MgBr"
      }
    },
    {
      "cell_type": "markdown",
      "source": [
        "#Question 2"
      ],
      "metadata": {
        "id": "HxCFs8uJscl3"
      }
    },
    {
      "cell_type": "code",
      "source": [
        "df2 = pd.read_csv(\"ex2.csv\")"
      ],
      "metadata": {
        "id": "X_S45oRno_KK"
      },
      "execution_count": 206,
      "outputs": []
    },
    {
      "cell_type": "code",
      "source": [
        "df2.head(2)"
      ],
      "metadata": {
        "colab": {
          "base_uri": "https://localhost:8080/",
          "height": 0
        },
        "id": "xYRXDXNqs6zS",
        "outputId": "21371ef7-7eaf-43c9-d169-de4d6668e225"
      },
      "execution_count": 207,
      "outputs": [
        {
          "output_type": "execute_result",
          "data": {
            "text/plain": [
              "   Unnamed: 0  incident_id        date       state            city_or_county  \\\n",
              "0      194704       877945  2017-06-25  California  Humboldt County (county)   \n",
              "1      103375       467550  2015-12-15     Georgia         Gwinnett (county)   \n",
              "\n",
              "  address  n_killed  n_injured  congressional_district  gun_stolen  ...  \\\n",
              "0     NaN         0          0                     2.0  0::Unknown  ...   \n",
              "1     NaN         0          0                     7.0  0::Unknown  ...   \n",
              "\n",
              "                                               notes participant_age  \\\n",
              "0                                                NaN             NaN   \n",
              "1  Perp is vic's ex GF's new boyfriend. Shot up m...             NaN   \n",
              "\n",
              "   participant_age_group participant_gender  \\\n",
              "0           0::Adult 18+                NaN   \n",
              "1                    NaN   0::Male||1::Male   \n",
              "\n",
              "                         participant_name  participant_relationship  \\\n",
              "0               0::Manuel Robert Alvidrez                       NaN   \n",
              "1  0::Eric Cotto||1::Christopher Anderson                       NaN   \n",
              "\n",
              "      participant_status               participant_type state_house_district  \\\n",
              "0  0::Unharmed, Arrested             0::Subject-Suspect                  2.0   \n",
              "1            0::Unharmed  0::Victim||1::Subject-Suspect                102.0   \n",
              "\n",
              "  state_senate_district  \n",
              "0                   2.0  \n",
              "1                  45.0  \n",
              "\n",
              "[2 rows x 26 columns]"
            ],
            "text/html": [
              "\n",
              "  <div id=\"df-413a38d3-0b45-4f1f-8d2d-39aca2d59aa1\">\n",
              "    <div class=\"colab-df-container\">\n",
              "      <div>\n",
              "<style scoped>\n",
              "    .dataframe tbody tr th:only-of-type {\n",
              "        vertical-align: middle;\n",
              "    }\n",
              "\n",
              "    .dataframe tbody tr th {\n",
              "        vertical-align: top;\n",
              "    }\n",
              "\n",
              "    .dataframe thead th {\n",
              "        text-align: right;\n",
              "    }\n",
              "</style>\n",
              "<table border=\"1\" class=\"dataframe\">\n",
              "  <thead>\n",
              "    <tr style=\"text-align: right;\">\n",
              "      <th></th>\n",
              "      <th>Unnamed: 0</th>\n",
              "      <th>incident_id</th>\n",
              "      <th>date</th>\n",
              "      <th>state</th>\n",
              "      <th>city_or_county</th>\n",
              "      <th>address</th>\n",
              "      <th>n_killed</th>\n",
              "      <th>n_injured</th>\n",
              "      <th>congressional_district</th>\n",
              "      <th>gun_stolen</th>\n",
              "      <th>...</th>\n",
              "      <th>notes</th>\n",
              "      <th>participant_age</th>\n",
              "      <th>participant_age_group</th>\n",
              "      <th>participant_gender</th>\n",
              "      <th>participant_name</th>\n",
              "      <th>participant_relationship</th>\n",
              "      <th>participant_status</th>\n",
              "      <th>participant_type</th>\n",
              "      <th>state_house_district</th>\n",
              "      <th>state_senate_district</th>\n",
              "    </tr>\n",
              "  </thead>\n",
              "  <tbody>\n",
              "    <tr>\n",
              "      <th>0</th>\n",
              "      <td>194704</td>\n",
              "      <td>877945</td>\n",
              "      <td>2017-06-25</td>\n",
              "      <td>California</td>\n",
              "      <td>Humboldt County (county)</td>\n",
              "      <td>NaN</td>\n",
              "      <td>0</td>\n",
              "      <td>0</td>\n",
              "      <td>2.0</td>\n",
              "      <td>0::Unknown</td>\n",
              "      <td>...</td>\n",
              "      <td>NaN</td>\n",
              "      <td>NaN</td>\n",
              "      <td>0::Adult 18+</td>\n",
              "      <td>NaN</td>\n",
              "      <td>0::Manuel Robert Alvidrez</td>\n",
              "      <td>NaN</td>\n",
              "      <td>0::Unharmed, Arrested</td>\n",
              "      <td>0::Subject-Suspect</td>\n",
              "      <td>2.0</td>\n",
              "      <td>2.0</td>\n",
              "    </tr>\n",
              "    <tr>\n",
              "      <th>1</th>\n",
              "      <td>103375</td>\n",
              "      <td>467550</td>\n",
              "      <td>2015-12-15</td>\n",
              "      <td>Georgia</td>\n",
              "      <td>Gwinnett (county)</td>\n",
              "      <td>NaN</td>\n",
              "      <td>0</td>\n",
              "      <td>0</td>\n",
              "      <td>7.0</td>\n",
              "      <td>0::Unknown</td>\n",
              "      <td>...</td>\n",
              "      <td>Perp is vic's ex GF's new boyfriend. Shot up m...</td>\n",
              "      <td>NaN</td>\n",
              "      <td>NaN</td>\n",
              "      <td>0::Male||1::Male</td>\n",
              "      <td>0::Eric Cotto||1::Christopher Anderson</td>\n",
              "      <td>NaN</td>\n",
              "      <td>0::Unharmed</td>\n",
              "      <td>0::Victim||1::Subject-Suspect</td>\n",
              "      <td>102.0</td>\n",
              "      <td>45.0</td>\n",
              "    </tr>\n",
              "  </tbody>\n",
              "</table>\n",
              "<p>2 rows × 26 columns</p>\n",
              "</div>\n",
              "      <button class=\"colab-df-convert\" onclick=\"convertToInteractive('df-413a38d3-0b45-4f1f-8d2d-39aca2d59aa1')\"\n",
              "              title=\"Convert this dataframe to an interactive table.\"\n",
              "              style=\"display:none;\">\n",
              "        \n",
              "  <svg xmlns=\"http://www.w3.org/2000/svg\" height=\"24px\"viewBox=\"0 0 24 24\"\n",
              "       width=\"24px\">\n",
              "    <path d=\"M0 0h24v24H0V0z\" fill=\"none\"/>\n",
              "    <path d=\"M18.56 5.44l.94 2.06.94-2.06 2.06-.94-2.06-.94-.94-2.06-.94 2.06-2.06.94zm-11 1L8.5 8.5l.94-2.06 2.06-.94-2.06-.94L8.5 2.5l-.94 2.06-2.06.94zm10 10l.94 2.06.94-2.06 2.06-.94-2.06-.94-.94-2.06-.94 2.06-2.06.94z\"/><path d=\"M17.41 7.96l-1.37-1.37c-.4-.4-.92-.59-1.43-.59-.52 0-1.04.2-1.43.59L10.3 9.45l-7.72 7.72c-.78.78-.78 2.05 0 2.83L4 21.41c.39.39.9.59 1.41.59.51 0 1.02-.2 1.41-.59l7.78-7.78 2.81-2.81c.8-.78.8-2.07 0-2.86zM5.41 20L4 18.59l7.72-7.72 1.47 1.35L5.41 20z\"/>\n",
              "  </svg>\n",
              "      </button>\n",
              "      \n",
              "  <style>\n",
              "    .colab-df-container {\n",
              "      display:flex;\n",
              "      flex-wrap:wrap;\n",
              "      gap: 12px;\n",
              "    }\n",
              "\n",
              "    .colab-df-convert {\n",
              "      background-color: #E8F0FE;\n",
              "      border: none;\n",
              "      border-radius: 50%;\n",
              "      cursor: pointer;\n",
              "      display: none;\n",
              "      fill: #1967D2;\n",
              "      height: 32px;\n",
              "      padding: 0 0 0 0;\n",
              "      width: 32px;\n",
              "    }\n",
              "\n",
              "    .colab-df-convert:hover {\n",
              "      background-color: #E2EBFA;\n",
              "      box-shadow: 0px 1px 2px rgba(60, 64, 67, 0.3), 0px 1px 3px 1px rgba(60, 64, 67, 0.15);\n",
              "      fill: #174EA6;\n",
              "    }\n",
              "\n",
              "    [theme=dark] .colab-df-convert {\n",
              "      background-color: #3B4455;\n",
              "      fill: #D2E3FC;\n",
              "    }\n",
              "\n",
              "    [theme=dark] .colab-df-convert:hover {\n",
              "      background-color: #434B5C;\n",
              "      box-shadow: 0px 1px 3px 1px rgba(0, 0, 0, 0.15);\n",
              "      filter: drop-shadow(0px 1px 2px rgba(0, 0, 0, 0.3));\n",
              "      fill: #FFFFFF;\n",
              "    }\n",
              "  </style>\n",
              "\n",
              "      <script>\n",
              "        const buttonEl =\n",
              "          document.querySelector('#df-413a38d3-0b45-4f1f-8d2d-39aca2d59aa1 button.colab-df-convert');\n",
              "        buttonEl.style.display =\n",
              "          google.colab.kernel.accessAllowed ? 'block' : 'none';\n",
              "\n",
              "        async function convertToInteractive(key) {\n",
              "          const element = document.querySelector('#df-413a38d3-0b45-4f1f-8d2d-39aca2d59aa1');\n",
              "          const dataTable =\n",
              "            await google.colab.kernel.invokeFunction('convertToInteractive',\n",
              "                                                     [key], {});\n",
              "          if (!dataTable) return;\n",
              "\n",
              "          const docLinkHtml = 'Like what you see? Visit the ' +\n",
              "            '<a target=\"_blank\" href=https://colab.research.google.com/notebooks/data_table.ipynb>data table notebook</a>'\n",
              "            + ' to learn more about interactive tables.';\n",
              "          element.innerHTML = '';\n",
              "          dataTable['output_type'] = 'display_data';\n",
              "          await google.colab.output.renderOutput(dataTable, element);\n",
              "          const docLink = document.createElement('div');\n",
              "          docLink.innerHTML = docLinkHtml;\n",
              "          element.appendChild(docLink);\n",
              "        }\n",
              "      </script>\n",
              "    </div>\n",
              "  </div>\n",
              "  "
            ]
          },
          "metadata": {},
          "execution_count": 207
        }
      ]
    },
    {
      "cell_type": "markdown",
      "source": [
        "##(a)"
      ],
      "metadata": {
        "id": "iC1o9javM_tA"
      }
    },
    {
      "cell_type": "markdown",
      "source": [
        "## I think features that can help us analysis, can be the time exactly the crime had in hours, Then we could know when the crime is being committed, and accordingly learn about the habits of the crime.\n",
        "## In addition, we could know whether different types of crimes are committed at different times"
      ],
      "metadata": {
        "id": "qIrYaOrLNDFu"
      }
    },
    {
      "cell_type": "markdown",
      "source": [
        "##(b)"
      ],
      "metadata": {
        "id": "ZJnE72jlsfHj"
      }
    },
    {
      "cell_type": "markdown",
      "source": [
        "I decided to take kaggle_income data.\n",
        "\n",
        "I think there could be a connection between the income house and crime.\n",
        "So I used aggregation to calculate the mean."
      ],
      "metadata": {
        "id": "qfFr6ssJOZH4"
      }
    },
    {
      "cell_type": "code",
      "source": [
        "df_kaggle_income = pd.read_csv('kaggle_income.csv', encoding='latin-1')"
      ],
      "metadata": {
        "id": "rWM78IQks9BC"
      },
      "execution_count": 208,
      "outputs": []
    },
    {
      "cell_type": "code",
      "source": [
        "state_income = df_kaggle_income.groupby('State_Name').agg({'Mean':'mean'}).reset_index().rename(columns={'State_Name':'state', 'Mean':'state_mean_income'})"
      ],
      "metadata": {
        "id": "Bc9BMEgouZMd"
      },
      "execution_count": 209,
      "outputs": []
    },
    {
      "cell_type": "code",
      "source": [
        "df_merge = df2.merge(state_income, on='state', how='left')"
      ],
      "metadata": {
        "id": "XIX0R-8LP5oQ"
      },
      "execution_count": 210,
      "outputs": []
    },
    {
      "cell_type": "code",
      "source": [
        "df_merge.head()"
      ],
      "metadata": {
        "colab": {
          "base_uri": "https://localhost:8080/",
          "height": 0
        },
        "id": "CXMLaN7EQj-J",
        "outputId": "e40a83d6-a349-4f01-8fa6-f37507f9e9c8"
      },
      "execution_count": 211,
      "outputs": [
        {
          "output_type": "execute_result",
          "data": {
            "text/plain": [
              "   Unnamed: 0  incident_id        date           state  \\\n",
              "0      194704       877945  2017-06-25      California   \n",
              "1      103375       467550  2015-12-15         Georgia   \n",
              "2      216952       983151  2017-11-04  North Carolina   \n",
              "3      140445       626752  2016-08-11           Texas   \n",
              "4       72670       349392  2015-05-30        New York   \n",
              "\n",
              "             city_or_county                   address  n_killed  n_injured  \\\n",
              "0  Humboldt County (county)                       NaN         0          0   \n",
              "1         Gwinnett (county)                       NaN         0          0   \n",
              "2               Rocky Mount  1000 Block of Niblick Dr         0          0   \n",
              "3                    Odessa      3939 Tanglewood Lane         0          0   \n",
              "4                Amityville    15, 21 Rosewood Avenue         1          2   \n",
              "\n",
              "   congressional_district                                         gun_stolen  \\\n",
              "0                     2.0                                         0::Unknown   \n",
              "1                     7.0                                         0::Unknown   \n",
              "2                     2.0                                         0::Unknown   \n",
              "3                    11.0  0::Unknown||1::Unknown||2::Unknown||3::Unknown...   \n",
              "4                     2.0                                                NaN   \n",
              "\n",
              "   ...             participant_age  \\\n",
              "0  ...                         NaN   \n",
              "1  ...                         NaN   \n",
              "2  ...                         NaN   \n",
              "3  ...                0::23||1::24   \n",
              "4  ...  0::44||1::38||2::37||3::38   \n",
              "\n",
              "                               participant_age_group  \\\n",
              "0                                       0::Adult 18+   \n",
              "1                                                NaN   \n",
              "2                                                NaN   \n",
              "3  0::Adult 18+||1::Adult 18+||2::Adult 18+||3::A...   \n",
              "4  0::Adult 18+||1::Adult 18+||2::Adult 18+||3::A...   \n",
              "\n",
              "                                  participant_gender  \\\n",
              "0                                                NaN   \n",
              "1                                   0::Male||1::Male   \n",
              "2                                                NaN   \n",
              "3  0::Male||1::Female||2::Male||3::Male||4::Male|...   \n",
              "4                 0::Male||1::Male||2::Male||3::Male   \n",
              "\n",
              "                                    participant_name  \\\n",
              "0                          0::Manuel Robert Alvidrez   \n",
              "1             0::Eric Cotto||1::Christopher Anderson   \n",
              "2                                                NaN   \n",
              "3                                                NaN   \n",
              "4  0::Louis Wilson||1::Shaun Wilson||2::Junious W...   \n",
              "\n",
              "                            participant_relationship  \\\n",
              "0                                                NaN   \n",
              "1                                                NaN   \n",
              "2                                                NaN   \n",
              "3  2::Home Invasion - Perp Does Not Know Victim||...   \n",
              "4                                                NaN   \n",
              "\n",
              "                                  participant_status  \\\n",
              "0                              0::Unharmed, Arrested   \n",
              "1                                        0::Unharmed   \n",
              "2                                                NaN   \n",
              "3  0::Unharmed||1::Unharmed||2::Unharmed||3::Unha...   \n",
              "4  0::Killed||1::Injured||2::Injured||3::Unharmed...   \n",
              "\n",
              "                                    participant_type state_house_district  \\\n",
              "0                                 0::Subject-Suspect                  2.0   \n",
              "1                      0::Victim||1::Subject-Suspect                102.0   \n",
              "2                                                NaN                  7.0   \n",
              "3  0::Victim||1::Victim||2::Subject-Suspect||3::S...                 81.0   \n",
              "4  0::Victim||1::Victim||2::Victim||3::Subject-Su...                 11.0   \n",
              "\n",
              "  state_senate_district state_mean_income  \n",
              "0                   2.0      78126.737805  \n",
              "1                  45.0      60354.391198  \n",
              "2                   4.0      57750.104918  \n",
              "3                  31.0      65407.010435  \n",
              "4                   8.0      76201.220833  \n",
              "\n",
              "[5 rows x 27 columns]"
            ],
            "text/html": [
              "\n",
              "  <div id=\"df-08926f7c-c6c3-49e5-8ccb-87e581ecabc6\">\n",
              "    <div class=\"colab-df-container\">\n",
              "      <div>\n",
              "<style scoped>\n",
              "    .dataframe tbody tr th:only-of-type {\n",
              "        vertical-align: middle;\n",
              "    }\n",
              "\n",
              "    .dataframe tbody tr th {\n",
              "        vertical-align: top;\n",
              "    }\n",
              "\n",
              "    .dataframe thead th {\n",
              "        text-align: right;\n",
              "    }\n",
              "</style>\n",
              "<table border=\"1\" class=\"dataframe\">\n",
              "  <thead>\n",
              "    <tr style=\"text-align: right;\">\n",
              "      <th></th>\n",
              "      <th>Unnamed: 0</th>\n",
              "      <th>incident_id</th>\n",
              "      <th>date</th>\n",
              "      <th>state</th>\n",
              "      <th>city_or_county</th>\n",
              "      <th>address</th>\n",
              "      <th>n_killed</th>\n",
              "      <th>n_injured</th>\n",
              "      <th>congressional_district</th>\n",
              "      <th>gun_stolen</th>\n",
              "      <th>...</th>\n",
              "      <th>participant_age</th>\n",
              "      <th>participant_age_group</th>\n",
              "      <th>participant_gender</th>\n",
              "      <th>participant_name</th>\n",
              "      <th>participant_relationship</th>\n",
              "      <th>participant_status</th>\n",
              "      <th>participant_type</th>\n",
              "      <th>state_house_district</th>\n",
              "      <th>state_senate_district</th>\n",
              "      <th>state_mean_income</th>\n",
              "    </tr>\n",
              "  </thead>\n",
              "  <tbody>\n",
              "    <tr>\n",
              "      <th>0</th>\n",
              "      <td>194704</td>\n",
              "      <td>877945</td>\n",
              "      <td>2017-06-25</td>\n",
              "      <td>California</td>\n",
              "      <td>Humboldt County (county)</td>\n",
              "      <td>NaN</td>\n",
              "      <td>0</td>\n",
              "      <td>0</td>\n",
              "      <td>2.0</td>\n",
              "      <td>0::Unknown</td>\n",
              "      <td>...</td>\n",
              "      <td>NaN</td>\n",
              "      <td>0::Adult 18+</td>\n",
              "      <td>NaN</td>\n",
              "      <td>0::Manuel Robert Alvidrez</td>\n",
              "      <td>NaN</td>\n",
              "      <td>0::Unharmed, Arrested</td>\n",
              "      <td>0::Subject-Suspect</td>\n",
              "      <td>2.0</td>\n",
              "      <td>2.0</td>\n",
              "      <td>78126.737805</td>\n",
              "    </tr>\n",
              "    <tr>\n",
              "      <th>1</th>\n",
              "      <td>103375</td>\n",
              "      <td>467550</td>\n",
              "      <td>2015-12-15</td>\n",
              "      <td>Georgia</td>\n",
              "      <td>Gwinnett (county)</td>\n",
              "      <td>NaN</td>\n",
              "      <td>0</td>\n",
              "      <td>0</td>\n",
              "      <td>7.0</td>\n",
              "      <td>0::Unknown</td>\n",
              "      <td>...</td>\n",
              "      <td>NaN</td>\n",
              "      <td>NaN</td>\n",
              "      <td>0::Male||1::Male</td>\n",
              "      <td>0::Eric Cotto||1::Christopher Anderson</td>\n",
              "      <td>NaN</td>\n",
              "      <td>0::Unharmed</td>\n",
              "      <td>0::Victim||1::Subject-Suspect</td>\n",
              "      <td>102.0</td>\n",
              "      <td>45.0</td>\n",
              "      <td>60354.391198</td>\n",
              "    </tr>\n",
              "    <tr>\n",
              "      <th>2</th>\n",
              "      <td>216952</td>\n",
              "      <td>983151</td>\n",
              "      <td>2017-11-04</td>\n",
              "      <td>North Carolina</td>\n",
              "      <td>Rocky Mount</td>\n",
              "      <td>1000 Block of Niblick Dr</td>\n",
              "      <td>0</td>\n",
              "      <td>0</td>\n",
              "      <td>2.0</td>\n",
              "      <td>0::Unknown</td>\n",
              "      <td>...</td>\n",
              "      <td>NaN</td>\n",
              "      <td>NaN</td>\n",
              "      <td>NaN</td>\n",
              "      <td>NaN</td>\n",
              "      <td>NaN</td>\n",
              "      <td>NaN</td>\n",
              "      <td>NaN</td>\n",
              "      <td>7.0</td>\n",
              "      <td>4.0</td>\n",
              "      <td>57750.104918</td>\n",
              "    </tr>\n",
              "    <tr>\n",
              "      <th>3</th>\n",
              "      <td>140445</td>\n",
              "      <td>626752</td>\n",
              "      <td>2016-08-11</td>\n",
              "      <td>Texas</td>\n",
              "      <td>Odessa</td>\n",
              "      <td>3939 Tanglewood Lane</td>\n",
              "      <td>0</td>\n",
              "      <td>0</td>\n",
              "      <td>11.0</td>\n",
              "      <td>0::Unknown||1::Unknown||2::Unknown||3::Unknown...</td>\n",
              "      <td>...</td>\n",
              "      <td>0::23||1::24</td>\n",
              "      <td>0::Adult 18+||1::Adult 18+||2::Adult 18+||3::A...</td>\n",
              "      <td>0::Male||1::Female||2::Male||3::Male||4::Male|...</td>\n",
              "      <td>NaN</td>\n",
              "      <td>2::Home Invasion - Perp Does Not Know Victim||...</td>\n",
              "      <td>0::Unharmed||1::Unharmed||2::Unharmed||3::Unha...</td>\n",
              "      <td>0::Victim||1::Victim||2::Subject-Suspect||3::S...</td>\n",
              "      <td>81.0</td>\n",
              "      <td>31.0</td>\n",
              "      <td>65407.010435</td>\n",
              "    </tr>\n",
              "    <tr>\n",
              "      <th>4</th>\n",
              "      <td>72670</td>\n",
              "      <td>349392</td>\n",
              "      <td>2015-05-30</td>\n",
              "      <td>New York</td>\n",
              "      <td>Amityville</td>\n",
              "      <td>15, 21 Rosewood Avenue</td>\n",
              "      <td>1</td>\n",
              "      <td>2</td>\n",
              "      <td>2.0</td>\n",
              "      <td>NaN</td>\n",
              "      <td>...</td>\n",
              "      <td>0::44||1::38||2::37||3::38</td>\n",
              "      <td>0::Adult 18+||1::Adult 18+||2::Adult 18+||3::A...</td>\n",
              "      <td>0::Male||1::Male||2::Male||3::Male</td>\n",
              "      <td>0::Louis Wilson||1::Shaun Wilson||2::Junious W...</td>\n",
              "      <td>NaN</td>\n",
              "      <td>0::Killed||1::Injured||2::Injured||3::Unharmed...</td>\n",
              "      <td>0::Victim||1::Victim||2::Victim||3::Subject-Su...</td>\n",
              "      <td>11.0</td>\n",
              "      <td>8.0</td>\n",
              "      <td>76201.220833</td>\n",
              "    </tr>\n",
              "  </tbody>\n",
              "</table>\n",
              "<p>5 rows × 27 columns</p>\n",
              "</div>\n",
              "      <button class=\"colab-df-convert\" onclick=\"convertToInteractive('df-08926f7c-c6c3-49e5-8ccb-87e581ecabc6')\"\n",
              "              title=\"Convert this dataframe to an interactive table.\"\n",
              "              style=\"display:none;\">\n",
              "        \n",
              "  <svg xmlns=\"http://www.w3.org/2000/svg\" height=\"24px\"viewBox=\"0 0 24 24\"\n",
              "       width=\"24px\">\n",
              "    <path d=\"M0 0h24v24H0V0z\" fill=\"none\"/>\n",
              "    <path d=\"M18.56 5.44l.94 2.06.94-2.06 2.06-.94-2.06-.94-.94-2.06-.94 2.06-2.06.94zm-11 1L8.5 8.5l.94-2.06 2.06-.94-2.06-.94L8.5 2.5l-.94 2.06-2.06.94zm10 10l.94 2.06.94-2.06 2.06-.94-2.06-.94-.94-2.06-.94 2.06-2.06.94z\"/><path d=\"M17.41 7.96l-1.37-1.37c-.4-.4-.92-.59-1.43-.59-.52 0-1.04.2-1.43.59L10.3 9.45l-7.72 7.72c-.78.78-.78 2.05 0 2.83L4 21.41c.39.39.9.59 1.41.59.51 0 1.02-.2 1.41-.59l7.78-7.78 2.81-2.81c.8-.78.8-2.07 0-2.86zM5.41 20L4 18.59l7.72-7.72 1.47 1.35L5.41 20z\"/>\n",
              "  </svg>\n",
              "      </button>\n",
              "      \n",
              "  <style>\n",
              "    .colab-df-container {\n",
              "      display:flex;\n",
              "      flex-wrap:wrap;\n",
              "      gap: 12px;\n",
              "    }\n",
              "\n",
              "    .colab-df-convert {\n",
              "      background-color: #E8F0FE;\n",
              "      border: none;\n",
              "      border-radius: 50%;\n",
              "      cursor: pointer;\n",
              "      display: none;\n",
              "      fill: #1967D2;\n",
              "      height: 32px;\n",
              "      padding: 0 0 0 0;\n",
              "      width: 32px;\n",
              "    }\n",
              "\n",
              "    .colab-df-convert:hover {\n",
              "      background-color: #E2EBFA;\n",
              "      box-shadow: 0px 1px 2px rgba(60, 64, 67, 0.3), 0px 1px 3px 1px rgba(60, 64, 67, 0.15);\n",
              "      fill: #174EA6;\n",
              "    }\n",
              "\n",
              "    [theme=dark] .colab-df-convert {\n",
              "      background-color: #3B4455;\n",
              "      fill: #D2E3FC;\n",
              "    }\n",
              "\n",
              "    [theme=dark] .colab-df-convert:hover {\n",
              "      background-color: #434B5C;\n",
              "      box-shadow: 0px 1px 3px 1px rgba(0, 0, 0, 0.15);\n",
              "      filter: drop-shadow(0px 1px 2px rgba(0, 0, 0, 0.3));\n",
              "      fill: #FFFFFF;\n",
              "    }\n",
              "  </style>\n",
              "\n",
              "      <script>\n",
              "        const buttonEl =\n",
              "          document.querySelector('#df-08926f7c-c6c3-49e5-8ccb-87e581ecabc6 button.colab-df-convert');\n",
              "        buttonEl.style.display =\n",
              "          google.colab.kernel.accessAllowed ? 'block' : 'none';\n",
              "\n",
              "        async function convertToInteractive(key) {\n",
              "          const element = document.querySelector('#df-08926f7c-c6c3-49e5-8ccb-87e581ecabc6');\n",
              "          const dataTable =\n",
              "            await google.colab.kernel.invokeFunction('convertToInteractive',\n",
              "                                                     [key], {});\n",
              "          if (!dataTable) return;\n",
              "\n",
              "          const docLinkHtml = 'Like what you see? Visit the ' +\n",
              "            '<a target=\"_blank\" href=https://colab.research.google.com/notebooks/data_table.ipynb>data table notebook</a>'\n",
              "            + ' to learn more about interactive tables.';\n",
              "          element.innerHTML = '';\n",
              "          dataTable['output_type'] = 'display_data';\n",
              "          await google.colab.output.renderOutput(dataTable, element);\n",
              "          const docLink = document.createElement('div');\n",
              "          docLink.innerHTML = docLinkHtml;\n",
              "          element.appendChild(docLink);\n",
              "        }\n",
              "      </script>\n",
              "    </div>\n",
              "  </div>\n",
              "  "
            ]
          },
          "metadata": {},
          "execution_count": 211
        }
      ]
    },
    {
      "cell_type": "markdown",
      "source": [
        "#Question 3"
      ],
      "metadata": {
        "id": "6IDrpeM32hpd"
      }
    },
    {
      "cell_type": "markdown",
      "source": [
        "##(a)"
      ],
      "metadata": {
        "id": "x-ZHSSV12l-A"
      }
    },
    {
      "cell_type": "markdown",
      "source": [
        "I used aggregate and calculate mean - The number killed and numberinjured for state.\n",
        "\n",
        "Also I compared it with the income I calculate on the last section."
      ],
      "metadata": {
        "id": "KhBXuP3YUvwg"
      }
    },
    {
      "cell_type": "code",
      "source": [
        "df_connection = df_merge.groupby('city_or_county').agg({'n_killed':'mean', 'n_injured':'mean', 'state_mean_income': 'mean'})"
      ],
      "metadata": {
        "id": "yKigsGvFT9wC"
      },
      "execution_count": 212,
      "outputs": []
    },
    {
      "cell_type": "markdown",
      "source": [
        "This plot is mean of n_injured in state as mean house income on the state."
      ],
      "metadata": {
        "id": "OSmO_BvBWBn8"
      }
    },
    {
      "cell_type": "code",
      "source": [
        "sns.scatterplot(x='state_mean_income', y='n_injured', data=df_connection)"
      ],
      "metadata": {
        "colab": {
          "base_uri": "https://localhost:8080/",
          "height": 0
        },
        "id": "yAkj0Bzm3men",
        "outputId": "397cd836-dee3-4fa6-e182-d8e40c5cf76e"
      },
      "execution_count": 213,
      "outputs": [
        {
          "output_type": "execute_result",
          "data": {
            "text/plain": [
              "<matplotlib.axes._subplots.AxesSubplot at 0x7f35023ed610>"
            ]
          },
          "metadata": {},
          "execution_count": 213
        },
        {
          "output_type": "display_data",
          "data": {
            "text/plain": [
              "<Figure size 432x288 with 1 Axes>"
            ],
            "image/png": "[encoded data removed]"
          },
          "metadata": {
            "needs_background": "light"
          }
        }
      ]
    },
    {
      "cell_type": "markdown",
      "source": [
        "This plot is mean of n_killed in state as mean house income."
      ],
      "metadata": {
        "id": "PasGsnLwWEwZ"
      }
    },
    {
      "cell_type": "code",
      "source": [
        "sns.scatterplot(x='state_mean_income', y='n_killed', data=df_connection)"
      ],
      "metadata": {
        "colab": {
          "base_uri": "https://localhost:8080/",
          "height": 0
        },
        "id": "e4knWN0yurX4",
        "outputId": "537d718d-0415-4247-f415-08d672aca573"
      },
      "execution_count": 214,
      "outputs": [
        {
          "output_type": "execute_result",
          "data": {
            "text/plain": [
              "<matplotlib.axes._subplots.AxesSubplot at 0x7f3503570350>"
            ]
          },
          "metadata": {},
          "execution_count": 214
        },
        {
          "output_type": "display_data",
          "data": {
            "text/plain": [
              "<Figure size 432x288 with 1 Axes>"
            ],
            "image/png": "[encoded data removed]"
          },
          "metadata": {
            "needs_background": "light"
          }
        }
      ]
    },
    {
      "cell_type": "code",
      "source": [
        "df_connection = df_merge.groupby('state').agg({'n_killed':'max', 'n_injured':'max', 'state_mean_income': 'mean'})"
      ],
      "metadata": {
        "id": "UXGdmraRUDkP"
      },
      "execution_count": 215,
      "outputs": []
    },
    {
      "cell_type": "markdown",
      "source": [
        "This is plot of max number of killed in state as mean house income"
      ],
      "metadata": {
        "id": "xEk4PJ4dWNhu"
      }
    },
    {
      "cell_type": "code",
      "source": [
        "sns.scatterplot(x='state_mean_income', y='n_killed', data=df_connection)"
      ],
      "metadata": {
        "colab": {
          "base_uri": "https://localhost:8080/",
          "height": 0
        },
        "id": "0Em0jbWK3rMC",
        "outputId": "17ff52c3-74c9-4835-8f56-3a8d9d88dc0d"
      },
      "execution_count": 216,
      "outputs": [
        {
          "output_type": "execute_result",
          "data": {
            "text/plain": [
              "<matplotlib.axes._subplots.AxesSubplot at 0x7f35024467d0>"
            ]
          },
          "metadata": {},
          "execution_count": 216
        },
        {
          "output_type": "display_data",
          "data": {
            "text/plain": [
              "<Figure size 432x288 with 1 Axes>"
            ],
            "image/png": "[encoded data removed]"
          },
          "metadata": {
            "needs_background": "light"
          }
        }
      ]
    },
    {
      "cell_type": "markdown",
      "source": [
        "This is plot of max number of injured in state as mean house income"
      ],
      "metadata": {
        "id": "FAzQW4IPWRXg"
      }
    },
    {
      "cell_type": "code",
      "source": [
        "sns.scatterplot(x='state_mean_income', y='n_injured', data=df_connection)"
      ],
      "metadata": {
        "colab": {
          "base_uri": "https://localhost:8080/",
          "height": 0
        },
        "id": "hCJBpHbP3uJy",
        "outputId": "10181c6c-555f-4e4d-ccf7-f0f662eb3c28"
      },
      "execution_count": 217,
      "outputs": [
        {
          "output_type": "execute_result",
          "data": {
            "text/plain": [
              "<matplotlib.axes._subplots.AxesSubplot at 0x7f35016bce90>"
            ]
          },
          "metadata": {},
          "execution_count": 217
        },
        {
          "output_type": "display_data",
          "data": {
            "text/plain": [
              "<Figure size 432x288 with 1 Axes>"
            ],
            "image/png": "[encoded data removed]"
          },
          "metadata": {
            "needs_background": "light"
          }
        }
      ]
    },
    {
      "cell_type": "markdown",
      "source": [
        "##(b)"
      ],
      "metadata": {
        "id": "Z39sAcRfWV83"
      }
    },
    {
      "cell_type": "code",
      "source": [
        "f,ax=plt.subplots(1,1,figsize=(20,10))\n",
        "sns.heatmap(df_merge.drop(columns=['incident_id', 'Unnamed: 0']).corr(), annot=True, cmap='RdYlGn', ax=ax)"
      ],
      "metadata": {
        "colab": {
          "base_uri": "https://localhost:8080/",
          "height": 0
        },
        "id": "_J3g0Vt13wHy",
        "outputId": "681d181c-27af-46e5-ac71-e3bb6d6a97bb"
      },
      "execution_count": 218,
      "outputs": [
        {
          "output_type": "execute_result",
          "data": {
            "text/plain": [
              "<matplotlib.axes._subplots.AxesSubplot at 0x7f350169a1d0>"
            ]
          },
          "metadata": {},
          "execution_count": 218
        },
        {
          "output_type": "display_data",
          "data": {
            "text/plain": [
              "<Figure size 1440x720 with 2 Axes>"
            ],
            "image/png": "[encoded data removed]"
          },
          "metadata": {
            "needs_background": "light"
          }
        }
      ]
    },
    {
      "cell_type": "markdown",
      "source": [
        "##We looking on the correlation heatmap and we can see that the new feature we add have correlation with latitude of 0.37, which it make sence.\n",
        "\n",
        "##Also this feature have a small correlation - 0.2 with congressional_district."
      ],
      "metadata": {
        "id": "qjyQovBmY1S3"
      }
    },
    {
      "cell_type": "markdown",
      "source": [
        "#Question 4"
      ],
      "metadata": {
        "id": "MHOmm_Ph5gHt"
      }
    },
    {
      "cell_type": "markdown",
      "source": [
        "##(a)"
      ],
      "metadata": {
        "id": "0Axnpfu66Wo9"
      }
    },
    {
      "cell_type": "code",
      "source": [
        "df_covid = pd.read_csv('covid_data.csv')"
      ],
      "metadata": {
        "id": "bDK2M1wZ3yul"
      },
      "execution_count": 219,
      "outputs": []
    },
    {
      "cell_type": "code",
      "source": [
        "df_covid.head(3)"
      ],
      "metadata": {
        "colab": {
          "base_uri": "https://localhost:8080/",
          "height": 0
        },
        "id": "4V3f2TGG5k-f",
        "outputId": "1152a461-c6fb-4bb7-ed15-dcc94a1d11cb"
      },
      "execution_count": 220,
      "outputs": [
        {
          "output_type": "execute_result",
          "data": {
            "text/plain": [
              "   day_num        date  detected\n",
              "0        1  21/02/2020         1\n",
              "1        3  23/02/2020         2\n",
              "2        7  27/02/2020         3"
            ],
            "text/html": [
              "\n",
              "  <div id=\"df-565bd2f1-d079-4094-859e-61154e0b7357\">\n",
              "    <div class=\"colab-df-container\">\n",
              "      <div>\n",
              "<style scoped>\n",
              "    .dataframe tbody tr th:only-of-type {\n",
              "        vertical-align: middle;\n",
              "    }\n",
              "\n",
              "    .dataframe tbody tr th {\n",
              "        vertical-align: top;\n",
              "    }\n",
              "\n",
              "    .dataframe thead th {\n",
              "        text-align: right;\n",
              "    }\n",
              "</style>\n",
              "<table border=\"1\" class=\"dataframe\">\n",
              "  <thead>\n",
              "    <tr style=\"text-align: right;\">\n",
              "      <th></th>\n",
              "      <th>day_num</th>\n",
              "      <th>date</th>\n",
              "      <th>detected</th>\n",
              "    </tr>\n",
              "  </thead>\n",
              "  <tbody>\n",
              "    <tr>\n",
              "      <th>0</th>\n",
              "      <td>1</td>\n",
              "      <td>21/02/2020</td>\n",
              "      <td>1</td>\n",
              "    </tr>\n",
              "    <tr>\n",
              "      <th>1</th>\n",
              "      <td>3</td>\n",
              "      <td>23/02/2020</td>\n",
              "      <td>2</td>\n",
              "    </tr>\n",
              "    <tr>\n",
              "      <th>2</th>\n",
              "      <td>7</td>\n",
              "      <td>27/02/2020</td>\n",
              "      <td>3</td>\n",
              "    </tr>\n",
              "  </tbody>\n",
              "</table>\n",
              "</div>\n",
              "      <button class=\"colab-df-convert\" onclick=\"convertToInteractive('df-565bd2f1-d079-4094-859e-61154e0b7357')\"\n",
              "              title=\"Convert this dataframe to an interactive table.\"\n",
              "              style=\"display:none;\">\n",
              "        \n",
              "  <svg xmlns=\"http://www.w3.org/2000/svg\" height=\"24px\"viewBox=\"0 0 24 24\"\n",
              "       width=\"24px\">\n",
              "    <path d=\"M0 0h24v24H0V0z\" fill=\"none\"/>\n",
              "    <path d=\"M18.56 5.44l.94 2.06.94-2.06 2.06-.94-2.06-.94-.94-2.06-.94 2.06-2.06.94zm-11 1L8.5 8.5l.94-2.06 2.06-.94-2.06-.94L8.5 2.5l-.94 2.06-2.06.94zm10 10l.94 2.06.94-2.06 2.06-.94-2.06-.94-.94-2.06-.94 2.06-2.06.94z\"/><path d=\"M17.41 7.96l-1.37-1.37c-.4-.4-.92-.59-1.43-.59-.52 0-1.04.2-1.43.59L10.3 9.45l-7.72 7.72c-.78.78-.78 2.05 0 2.83L4 21.41c.39.39.9.59 1.41.59.51 0 1.02-.2 1.41-.59l7.78-7.78 2.81-2.81c.8-.78.8-2.07 0-2.86zM5.41 20L4 18.59l7.72-7.72 1.47 1.35L5.41 20z\"/>\n",
              "  </svg>\n",
              "      </button>\n",
              "      \n",
              "  <style>\n",
              "    .colab-df-container {\n",
              "      display:flex;\n",
              "      flex-wrap:wrap;\n",
              "      gap: 12px;\n",
              "    }\n",
              "\n",
              "    .colab-df-convert {\n",
              "      background-color: #E8F0FE;\n",
              "      border: none;\n",
              "      border-radius: 50%;\n",
              "      cursor: pointer;\n",
              "      display: none;\n",
              "      fill: #1967D2;\n",
              "      height: 32px;\n",
              "      padding: 0 0 0 0;\n",
              "      width: 32px;\n",
              "    }\n",
              "\n",
              "    .colab-df-convert:hover {\n",
              "      background-color: #E2EBFA;\n",
              "      box-shadow: 0px 1px 2px rgba(60, 64, 67, 0.3), 0px 1px 3px 1px rgba(60, 64, 67, 0.15);\n",
              "      fill: #174EA6;\n",
              "    }\n",
              "\n",
              "    [theme=dark] .colab-df-convert {\n",
              "      background-color: #3B4455;\n",
              "      fill: #D2E3FC;\n",
              "    }\n",
              "\n",
              "    [theme=dark] .colab-df-convert:hover {\n",
              "      background-color: #434B5C;\n",
              "      box-shadow: 0px 1px 3px 1px rgba(0, 0, 0, 0.15);\n",
              "      filter: drop-shadow(0px 1px 2px rgba(0, 0, 0, 0.3));\n",
              "      fill: #FFFFFF;\n",
              "    }\n",
              "  </style>\n",
              "\n",
              "      <script>\n",
              "        const buttonEl =\n",
              "          document.querySelector('#df-565bd2f1-d079-4094-859e-61154e0b7357 button.colab-df-convert');\n",
              "        buttonEl.style.display =\n",
              "          google.colab.kernel.accessAllowed ? 'block' : 'none';\n",
              "\n",
              "        async function convertToInteractive(key) {\n",
              "          const element = document.querySelector('#df-565bd2f1-d079-4094-859e-61154e0b7357');\n",
              "          const dataTable =\n",
              "            await google.colab.kernel.invokeFunction('convertToInteractive',\n",
              "                                                     [key], {});\n",
              "          if (!dataTable) return;\n",
              "\n",
              "          const docLinkHtml = 'Like what you see? Visit the ' +\n",
              "            '<a target=\"_blank\" href=https://colab.research.google.com/notebooks/data_table.ipynb>data table notebook</a>'\n",
              "            + ' to learn more about interactive tables.';\n",
              "          element.innerHTML = '';\n",
              "          dataTable['output_type'] = 'display_data';\n",
              "          await google.colab.output.renderOutput(dataTable, element);\n",
              "          const docLink = document.createElement('div');\n",
              "          docLink.innerHTML = docLinkHtml;\n",
              "          element.appendChild(docLink);\n",
              "        }\n",
              "      </script>\n",
              "    </div>\n",
              "  </div>\n",
              "  "
            ]
          },
          "metadata": {},
          "execution_count": 220
        }
      ]
    },
    {
      "cell_type": "code",
      "source": [
        "lr = LinearRegression()\n",
        "X, y= df_covid[['day_num']], df_covid[['detected']]\n",
        "lr.fit(X, y)"
      ],
      "metadata": {
        "colab": {
          "base_uri": "https://localhost:8080/"
        },
        "id": "sspkFFWi5o0T",
        "outputId": "18d924b3-c397-42ad-d209-002edc2072fb"
      },
      "execution_count": 221,
      "outputs": [
        {
          "output_type": "execute_result",
          "data": {
            "text/plain": [
              "LinearRegression()"
            ]
          },
          "metadata": {},
          "execution_count": 221
        }
      ]
    },
    {
      "cell_type": "code",
      "source": [
        "mean_squared_error(y, lr.predict(X))"
      ],
      "metadata": {
        "colab": {
          "base_uri": "https://localhost:8080/"
        },
        "id": "HGYeMus36EiQ",
        "outputId": "6204e830-d226-4d98-d72f-93a9d4ecabfb"
      },
      "execution_count": 222,
      "outputs": [
        {
          "output_type": "execute_result",
          "data": {
            "text/plain": [
              "1669656.317944683"
            ]
          },
          "metadata": {},
          "execution_count": 222
        }
      ]
    },
    {
      "cell_type": "markdown",
      "source": [
        "##(b)"
      ],
      "metadata": {
        "id": "yKyRYhVZ6ZPp"
      }
    },
    {
      "cell_type": "code",
      "source": [
        "pred = lr.predict(X)"
      ],
      "metadata": {
        "id": "uT3zse8Q6M-H"
      },
      "execution_count": 223,
      "outputs": []
    },
    {
      "cell_type": "code",
      "source": [
        "plt.scatter(X, y, color = \"red\")\n",
        "plt.plot(X, pred, color = \"blue\")\n",
        "plt.title(\"New detected against day number\")\n",
        "plt.xlabel(\"day number\")\n",
        "plt.ylabel(\"detected\")\n",
        "plt.show()"
      ],
      "metadata": {
        "colab": {
          "base_uri": "https://localhost:8080/",
          "height": 0
        },
        "id": "Ru0WdtkD6iWF",
        "outputId": "65e7178f-9837-4353-9a94-50ccdad85b91"
      },
      "execution_count": 224,
      "outputs": [
        {
          "output_type": "display_data",
          "data": {
            "text/plain": [
              "<Figure size 432x288 with 1 Axes>"
            ],
            "image/png": "[encoded data removed]"
          },
          "metadata": {
            "needs_background": "light"
          }
        }
      ]
    },
    {
      "cell_type": "markdown",
      "source": [
        "Easy to see that between 'day_num' to 'detected' the conection is not linear,\n",
        "\n",
        "So if we will use the linear regression we gonna get bad results.\n",
        "In addition we can notice that the connection is exponential.\n",
        "So we will try make some transformation."
      ],
      "metadata": {
        "id": "i1HC26Tva3Uz"
      }
    },
    {
      "cell_type": "markdown",
      "source": [
        "##(c)"
      ],
      "metadata": {
        "id": "6O-Ray3jbVep"
      }
    },
    {
      "cell_type": "markdown",
      "source": [
        "We take log for detection feature."
      ],
      "metadata": {
        "id": "7nkTSdt7beVy"
      }
    },
    {
      "cell_type": "code",
      "source": [
        "y = np.log(y)"
      ],
      "metadata": {
        "id": "oGw4d3rBa3sX"
      },
      "execution_count": 225,
      "outputs": []
    },
    {
      "cell_type": "code",
      "source": [
        "lr_log = LinearRegression()\n",
        "lr_log.fit(X, y)"
      ],
      "metadata": {
        "colab": {
          "base_uri": "https://localhost:8080/"
        },
        "id": "LYdXb2pMb3qQ",
        "outputId": "13d61c1d-6bc4-46cb-97ea-6e816e666825"
      },
      "execution_count": 226,
      "outputs": [
        {
          "output_type": "execute_result",
          "data": {
            "text/plain": [
              "LinearRegression()"
            ]
          },
          "metadata": {},
          "execution_count": 226
        }
      ]
    },
    {
      "cell_type": "code",
      "source": [
        "pred_log = lr_log.predict(X)"
      ],
      "metadata": {
        "id": "xkDpjPpQcx7s"
      },
      "execution_count": 227,
      "outputs": []
    },
    {
      "cell_type": "code",
      "source": [
        "mean_squared_error(y, pred_log)"
      ],
      "metadata": {
        "colab": {
          "base_uri": "https://localhost:8080/"
        },
        "id": "G2V5ExWPcNx3",
        "outputId": "b7cbbebb-536a-4d3e-dad3-7943b7d577c3"
      },
      "execution_count": 228,
      "outputs": [
        {
          "output_type": "execute_result",
          "data": {
            "text/plain": [
              "0.08197842668518304"
            ]
          },
          "metadata": {},
          "execution_count": 228
        }
      ]
    },
    {
      "cell_type": "code",
      "source": [
        "plt.scatter(X, y, color = \"red\")\n",
        "plt.plot(X, pred_log, color = \"blue\")\n",
        "plt.title(\"New detected against day number\")\n",
        "plt.xlabel(\"day number\")\n",
        "plt.ylabel(\"detected\")\n",
        "plt.show()"
      ],
      "metadata": {
        "colab": {
          "base_uri": "https://localhost:8080/",
          "height": 0
        },
        "id": "ndU8jK3qc8lZ",
        "outputId": "1ea82c54-1ad3-4974-95cd-cf5f3014461f"
      },
      "execution_count": 229,
      "outputs": [
        {
          "output_type": "display_data",
          "data": {
            "text/plain": [
              "<Figure size 432x288 with 1 Axes>"
            ],
            "image/png": "[encoded data removed]"
          },
          "metadata": {
            "needs_background": "light"
          }
        }
      ]
    },
    {
      "cell_type": "markdown",
      "source": [
        "The MSE is around 0.08, were it is very well prediction."
      ],
      "metadata": {
        "id": "FgVrIVffdNB_"
      }
    },
    {
      "cell_type": "code",
      "source": [],
      "metadata": {
        "id": "an_WmI8GdcOd"
      },
      "execution_count": 229,
      "outputs": []
    }
  ]
}