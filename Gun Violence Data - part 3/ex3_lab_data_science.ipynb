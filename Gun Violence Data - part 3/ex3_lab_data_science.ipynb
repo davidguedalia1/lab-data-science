{
  "nbformat": 4,
  "nbformat_minor": 0,
  "metadata": {
    "colab": {
      "provenance": []
    },
    "kernelspec": {
      "name": "python3",
      "display_name": "Python 3"
    },
    "language_info": {
      "name": "python"
    }
  },
  "cells": [
    {
      "cell_type": "markdown",
      "source": [
        "#Applied Competitive Lab in Data Science\n",
        "##Exercise 1\n",
        "David Guedalia"
      ],
      "metadata": {
        "id": "UNykUF_Oestu"
      }
    },
    {
      "cell_type": "code",
      "execution_count": 333,
      "metadata": {
        "id": "tyOwXINrdo5K"
      },
      "outputs": [],
      "source": [
        "import pandas as pd\n",
        "import numpy as np\n",
        "from matplotlib import pyplot as plt\n",
        "from sklearn.model_selection import train_test_split\n",
        "from sklearn.ensemble import RandomForestRegressor\n",
        "import seaborn as sns\n",
        "from sklearn.linear_model import LinearRegression\n",
        "from sklearn.metrics import mean_absolute_error, mean_squared_error\n",
        "from sklearn.model_selection import train_test_split, RandomizedSearchCV, GridSearchCV, cross_val_score\n",
        "import warnings\n",
        "from sklearn.linear_model import LinearRegression\n",
        "from sklearn.ensemble import RandomForestRegressor\n",
        "from sklearn.metrics import mean_squared_error\n",
        "from sklearn.metrics import make_scorer\n",
        "from scipy.stats import randint\n",
        "import seaborn as sns\n",
        "warnings.filterwarnings('ignore')\n"
      ]
    },
    {
      "cell_type": "code",
      "source": [
        "df = pd.read_csv(\"ex3.csv\")\n",
        "df.head(2)"
      ],
      "metadata": {
        "colab": {
          "base_uri": "https://localhost:8080/",
          "height": 327
        },
        "id": "eD5qDGRjewN6",
        "outputId": "8409766c-36d9-4ff0-de57-4fc8f94c6fa9"
      },
      "execution_count": 334,
      "outputs": [
        {
          "output_type": "execute_result",
          "data": {
            "text/plain": [
              "   Unnamed: 0  incident_id        date       state            city_or_county  \\\n",
              "0      194704       877945  2017-06-25  California  Humboldt County (county)   \n",
              "1      103375       467550  2015-12-15     Georgia         Gwinnett (county)   \n",
              "\n",
              "  address  n_killed  n_injured  congressional_district  gun_stolen  ...  \\\n",
              "0     NaN         0          0                     2.0  0::Unknown  ...   \n",
              "1     NaN         0          0                     7.0  0::Unknown  ...   \n",
              "\n",
              "                                               notes participant_age  \\\n",
              "0                                                NaN             NaN   \n",
              "1  Perp is vic's ex GF's new boyfriend. Shot up m...             NaN   \n",
              "\n",
              "   participant_age_group participant_gender  \\\n",
              "0           0::Adult 18+                NaN   \n",
              "1                    NaN   0::Male||1::Male   \n",
              "\n",
              "                         participant_name  participant_relationship  \\\n",
              "0               0::Manuel Robert Alvidrez                       NaN   \n",
              "1  0::Eric Cotto||1::Christopher Anderson                       NaN   \n",
              "\n",
              "      participant_status               participant_type state_house_district  \\\n",
              "0  0::Unharmed, Arrested             0::Subject-Suspect                  2.0   \n",
              "1            0::Unharmed  0::Victim||1::Subject-Suspect                102.0   \n",
              "\n",
              "  state_senate_district  \n",
              "0                   2.0  \n",
              "1                  45.0  \n",
              "\n",
              "[2 rows x 26 columns]"
            ],
            "text/html": [
              "\n",
              "  <div id=\"df-e19585b2-1fd0-4945-99a3-aa0e6c2e20f8\">\n",
              "    <div class=\"colab-df-container\">\n",
              "      <div>\n",
              "<style scoped>\n",
              "    .dataframe tbody tr th:only-of-type {\n",
              "        vertical-align: middle;\n",
              "    }\n",
              "\n",
              "    .dataframe tbody tr th {\n",
              "        vertical-align: top;\n",
              "    }\n",
              "\n",
              "    .dataframe thead th {\n",
              "        text-align: right;\n",
              "    }\n",
              "</style>\n",
              "<table border=\"1\" class=\"dataframe\">\n",
              "  <thead>\n",
              "    <tr style=\"text-align: right;\">\n",
              "      <th></th>\n",
              "      <th>Unnamed: 0</th>\n",
              "      <th>incident_id</th>\n",
              "      <th>date</th>\n",
              "      <th>state</th>\n",
              "      <th>city_or_county</th>\n",
              "      <th>address</th>\n",
              "      <th>n_killed</th>\n",
              "      <th>n_injured</th>\n",
              "      <th>congressional_district</th>\n",
              "      <th>gun_stolen</th>\n",
              "      <th>...</th>\n",
              "      <th>notes</th>\n",
              "      <th>participant_age</th>\n",
              "      <th>participant_age_group</th>\n",
              "      <th>participant_gender</th>\n",
              "      <th>participant_name</th>\n",
              "      <th>participant_relationship</th>\n",
              "      <th>participant_status</th>\n",
              "      <th>participant_type</th>\n",
              "      <th>state_house_district</th>\n",
              "      <th>state_senate_district</th>\n",
              "    </tr>\n",
              "  </thead>\n",
              "  <tbody>\n",
              "    <tr>\n",
              "      <th>0</th>\n",
              "      <td>194704</td>\n",
              "      <td>877945</td>\n",
              "      <td>2017-06-25</td>\n",
              "      <td>California</td>\n",
              "      <td>Humboldt County (county)</td>\n",
              "      <td>NaN</td>\n",
              "      <td>0</td>\n",
              "      <td>0</td>\n",
              "      <td>2.0</td>\n",
              "      <td>0::Unknown</td>\n",
              "      <td>...</td>\n",
              "      <td>NaN</td>\n",
              "      <td>NaN</td>\n",
              "      <td>0::Adult 18+</td>\n",
              "      <td>NaN</td>\n",
              "      <td>0::Manuel Robert Alvidrez</td>\n",
              "      <td>NaN</td>\n",
              "      <td>0::Unharmed, Arrested</td>\n",
              "      <td>0::Subject-Suspect</td>\n",
              "      <td>2.0</td>\n",
              "      <td>2.0</td>\n",
              "    </tr>\n",
              "    <tr>\n",
              "      <th>1</th>\n",
              "      <td>103375</td>\n",
              "      <td>467550</td>\n",
              "      <td>2015-12-15</td>\n",
              "      <td>Georgia</td>\n",
              "      <td>Gwinnett (county)</td>\n",
              "      <td>NaN</td>\n",
              "      <td>0</td>\n",
              "      <td>0</td>\n",
              "      <td>7.0</td>\n",
              "      <td>0::Unknown</td>\n",
              "      <td>...</td>\n",
              "      <td>Perp is vic's ex GF's new boyfriend. Shot up m...</td>\n",
              "      <td>NaN</td>\n",
              "      <td>NaN</td>\n",
              "      <td>0::Male||1::Male</td>\n",
              "      <td>0::Eric Cotto||1::Christopher Anderson</td>\n",
              "      <td>NaN</td>\n",
              "      <td>0::Unharmed</td>\n",
              "      <td>0::Victim||1::Subject-Suspect</td>\n",
              "      <td>102.0</td>\n",
              "      <td>45.0</td>\n",
              "    </tr>\n",
              "  </tbody>\n",
              "</table>\n",
              "<p>2 rows × 26 columns</p>\n",
              "</div>\n",
              "      <button class=\"colab-df-convert\" onclick=\"convertToInteractive('df-e19585b2-1fd0-4945-99a3-aa0e6c2e20f8')\"\n",
              "              title=\"Convert this dataframe to an interactive table.\"\n",
              "              style=\"display:none;\">\n",
              "        \n",
              "  <svg xmlns=\"http://www.w3.org/2000/svg\" height=\"24px\"viewBox=\"0 0 24 24\"\n",
              "       width=\"24px\">\n",
              "    <path d=\"M0 0h24v24H0V0z\" fill=\"none\"/>\n",
              "    <path d=\"M18.56 5.44l.94 2.06.94-2.06 2.06-.94-2.06-.94-.94-2.06-.94 2.06-2.06.94zm-11 1L8.5 8.5l.94-2.06 2.06-.94-2.06-.94L8.5 2.5l-.94 2.06-2.06.94zm10 10l.94 2.06.94-2.06 2.06-.94-2.06-.94-.94-2.06-.94 2.06-2.06.94z\"/><path d=\"M17.41 7.96l-1.37-1.37c-.4-.4-.92-.59-1.43-.59-.52 0-1.04.2-1.43.59L10.3 9.45l-7.72 7.72c-.78.78-.78 2.05 0 2.83L4 21.41c.39.39.9.59 1.41.59.51 0 1.02-.2 1.41-.59l7.78-7.78 2.81-2.81c.8-.78.8-2.07 0-2.86zM5.41 20L4 18.59l7.72-7.72 1.47 1.35L5.41 20z\"/>\n",
              "  </svg>\n",
              "      </button>\n",
              "      \n",
              "  <style>\n",
              "    .colab-df-container {\n",
              "      display:flex;\n",
              "      flex-wrap:wrap;\n",
              "      gap: 12px;\n",
              "    }\n",
              "\n",
              "    .colab-df-convert {\n",
              "      background-color: #E8F0FE;\n",
              "      border: none;\n",
              "      border-radius: 50%;\n",
              "      cursor: pointer;\n",
              "      display: none;\n",
              "      fill: #1967D2;\n",
              "      height: 32px;\n",
              "      padding: 0 0 0 0;\n",
              "      width: 32px;\n",
              "    }\n",
              "\n",
              "    .colab-df-convert:hover {\n",
              "      background-color: #E2EBFA;\n",
              "      box-shadow: 0px 1px 2px rgba(60, 64, 67, 0.3), 0px 1px 3px 1px rgba(60, 64, 67, 0.15);\n",
              "      fill: #174EA6;\n",
              "    }\n",
              "\n",
              "    [theme=dark] .colab-df-convert {\n",
              "      background-color: #3B4455;\n",
              "      fill: #D2E3FC;\n",
              "    }\n",
              "\n",
              "    [theme=dark] .colab-df-convert:hover {\n",
              "      background-color: #434B5C;\n",
              "      box-shadow: 0px 1px 3px 1px rgba(0, 0, 0, 0.15);\n",
              "      filter: drop-shadow(0px 1px 2px rgba(0, 0, 0, 0.3));\n",
              "      fill: #FFFFFF;\n",
              "    }\n",
              "  </style>\n",
              "\n",
              "      <script>\n",
              "        const buttonEl =\n",
              "          document.querySelector('#df-e19585b2-1fd0-4945-99a3-aa0e6c2e20f8 button.colab-df-convert');\n",
              "        buttonEl.style.display =\n",
              "          google.colab.kernel.accessAllowed ? 'block' : 'none';\n",
              "\n",
              "        async function convertToInteractive(key) {\n",
              "          const element = document.querySelector('#df-e19585b2-1fd0-4945-99a3-aa0e6c2e20f8');\n",
              "          const dataTable =\n",
              "            await google.colab.kernel.invokeFunction('convertToInteractive',\n",
              "                                                     [key], {});\n",
              "          if (!dataTable) return;\n",
              "\n",
              "          const docLinkHtml = 'Like what you see? Visit the ' +\n",
              "            '<a target=\"_blank\" href=https://colab.research.google.com/notebooks/data_table.ipynb>data table notebook</a>'\n",
              "            + ' to learn more about interactive tables.';\n",
              "          element.innerHTML = '';\n",
              "          dataTable['output_type'] = 'display_data';\n",
              "          await google.colab.output.renderOutput(dataTable, element);\n",
              "          const docLink = document.createElement('div');\n",
              "          docLink.innerHTML = docLinkHtml;\n",
              "          element.appendChild(docLink);\n",
              "        }\n",
              "      </script>\n",
              "    </div>\n",
              "  </div>\n",
              "  "
            ]
          },
          "metadata": {},
          "execution_count": 334
        }
      ]
    },
    {
      "cell_type": "markdown",
      "source": [
        "#Question 1"
      ],
      "metadata": {
        "id": "WiDaCYm6eyey"
      }
    },
    {
      "cell_type": "markdown",
      "source": [
        "##Preprocessing"
      ],
      "metadata": {
        "id": "abNMdoX2hPLv"
      }
    },
    {
      "cell_type": "markdown",
      "source": [
        "I preprocess based of metrics I did last exercise, and I add more metrics to handle features that I had to parse and analyze them, With carfully not using features can cause leakage. "
      ],
      "metadata": {
        "id": "cY4xWfaKa5iL"
      }
    },
    {
      "cell_type": "markdown",
      "source": [
        "As I saw the most of the values are less then four."
      ],
      "metadata": {
        "id": "rPOURy43eoiK"
      }
    },
    {
      "cell_type": "markdown",
      "source": [
        "I used metric we saw in class - binning so I took the first 50 cities"
      ],
      "metadata": {
        "id": "GuKltP9HexII"
      }
    },
    {
      "cell_type": "markdown",
      "source": [
        "The date feature I decided to break into year and month. Also I saw it important to take also the day in the week it happend as it can make sence theres days with more crime, and maybe it can help to predict the target feature."
      ],
      "metadata": {
        "id": "tNiRwv2SfEPg"
      }
    },
    {
      "cell_type": "markdown",
      "source": [
        "I add the feature I calculate the last exercise from kaggle_income.csv"
      ],
      "metadata": {
        "id": "vijA2rYMgHBP"
      }
    },
    {
      "cell_type": "markdown",
      "source": [
        "For the participant features I took the number of times it shown as a new feature - hopefully it will improve the performances."
      ],
      "metadata": {
        "id": "HI1uo8E5feuT"
      }
    },
    {
      "cell_type": "code",
      "source": [
        "list_to_ten = list(range(1, 4))\n",
        "def binning_n_guns(x):\n",
        "    if x in list_to_ten:\n",
        "        return str(x)\n",
        "    return \"4 or more\""
      ],
      "metadata": {
        "id": "_GyBSJwpneGY"
      },
      "execution_count": 335,
      "outputs": []
    },
    {
      "cell_type": "code",
      "source": [
        "categorical_features = ['state', 'city_or_county', 'year', 'month', 'day', 'n_guns_involved']"
      ],
      "metadata": {
        "id": "xHvdBqki8BQp"
      },
      "execution_count": 336,
      "outputs": []
    },
    {
      "cell_type": "code",
      "source": [
        "features_model_after_prep = ['state', 'city_or_county', 'year', 'month', 'day', 'participant_gender_male', 'participant_gender_female', 'participant_adult', 'n_guns_involved',\n",
        "                     'participant_teen', 'participant_child', 'gun_stolen_n', 'gun_unstolen_n', 'gun_unknown_n', 'latitude', 'longitude', 'state_mean_income']"
      ],
      "metadata": {
        "id": "vGfklrMOaD69"
      },
      "execution_count": 337,
      "outputs": []
    },
    {
      "cell_type": "code",
      "source": [
        "def preprocess(df, X_train):\n",
        "    df[\"longitude\"] = df[\"longitude\"].apply(lambda x : x if -180 <= float(x) <= 80 else df[\"longitude\"].mode()[0])\n",
        "    df[\"n_guns_involved\"] = df[\"n_guns_involved\"].apply(lambda x:binning_n_guns(x))\n",
        "    top_cities = df['city_or_county'].value_counts()[:50].index.tolist()\n",
        "    df['city_or_county'] = df['city_or_county'].apply(lambda x: 'Other_city' if x not in top_cities else x)\n",
        "    df['date'] = pd.to_datetime(df['date'])\n",
        "    df['month'] = df['date'].dt.month\n",
        "    df['year'] = df['date'].dt.year\n",
        "    df['day'] = df['date'].apply(lambda x: x.day_name())\n",
        "    df[\"participant_gender\"] = df[\"participant_gender\"].fillna('Unknown')\n",
        "    df['participant_age_group'] = df['participant_age_group'].fillna('Unknown')\n",
        "    df['gun_stolen'] = df['gun_stolen'].fillna('Unknown')\n",
        "    df[\"participant_gender_male\"] = df[\"participant_gender\"].apply(lambda x: np.nan if x == 'Unknown' else sum('Male' in s for s in x.split(\"||\")))\n",
        "    df[\"participant_gender_female\"] = df[\"participant_gender\"].apply(lambda x: np.nan if x == 'Unknown' else sum('Female' in s for s in x.split(\"||\")))\n",
        "    df[\"participant_adult\"] = df[\"participant_age_group\"].apply(lambda x: np.nan if x == 'Unknown' else sum('Adult' in s for s in x.split(\"||\")))\n",
        "    df[\"participant_teen\"] = df[\"participant_age_group\"].apply(lambda x: np.nan if x == 'Unknown' else sum('Teen' in s for s in x.split(\"||\")))\n",
        "    df[\"participant_child\"] = df[\"participant_age_group\"].apply(lambda x: np.nan if x == 'Unknown' else sum('Child' in s for s in x.split(\"||\")))\n",
        "    df[\"gun_stolen_n\"] = df[\"gun_stolen\"].apply(lambda x: np.nan if x == 'Unknown' else sum('Stolen' in s for s in x.split(\"||\")))\n",
        "    df[\"gun_unstolen_n\"] = df[\"participant_age_group\"].apply(lambda x: np.nan if x == 'Unknown' else sum('Not-stolen' in s for s in x.split(\"||\")))\n",
        "    df[\"gun_unknown_n\"] = df[\"participant_age_group\"].apply(lambda x: np.nan if x == 'Unknown' else sum('Unknown' in s for s in x.split(\"||\")))\n",
        "\n",
        "    df[\"participant_gender_female\"].fillna(X_train[\"participant_gender_female\"].mode()[0], inplace=True)\n",
        "    df[\"participant_gender_male\"].fillna(X_train[\"participant_gender_male\"].mode()[0], inplace=True)\n",
        "    df[\"participant_adult\"].fillna(X_train[\"participant_adult\"].mode()[0], inplace=True)\n",
        "    df[\"participant_teen\"].fillna(X_train[\"participant_teen\"].mode()[0], inplace=True)\n",
        "    df[\"participant_child\"].fillna(X_train[\"participant_child\"].mode()[0], inplace=True)\n",
        "    df[\"gun_stolen_n\"].fillna(X_train[\"gun_stolen_n\"].mode()[0], inplace=True)\n",
        "    df[\"gun_unstolen_n\"].fillna(X_train[\"gun_unstolen_n\"].mode()[0], inplace=True)\n",
        "    df[\"gun_unknown_n\"].fillna(X_train[\"gun_unknown_n\"].mode()[0], inplace=True)\n",
        "    df_kaggle_income = pd.read_csv('kaggle_income.csv', encoding='latin-1')\n",
        "    state_income = df_kaggle_income.groupby('State_Name').agg({'Mean':'mean'}).reset_index().rename(columns={'State_Name':'state', 'Mean':'state_mean_income'})\n",
        "    df = df.merge(state_income, on='state', how='left')\n",
        "    df = pd.get_dummies(df,columns=categorical_features,drop_first=True)\n",
        "    df = df.drop(columns=['date', 'participant_gender', 'participant_age_group', 'gun_stolen'])\n",
        "    return df"
      ],
      "metadata": {
        "id": "ghixFPU4fN1y"
      },
      "execution_count": 338,
      "outputs": []
    },
    {
      "cell_type": "markdown",
      "source": [
        "Features I decided to include the model."
      ],
      "metadata": {
        "id": "DNKf0ovTgRoP"
      }
    },
    {
      "cell_type": "code",
      "source": [
        "features_to_model = ['state', 'city_or_county', 'date', 'participant_gender', 'participant_age_group', 'n_guns_involved',\n",
        "                   'gun_stolen', 'latitude', 'longitude']"
      ],
      "metadata": {
        "id": "Y4Zy-Q_NZ-O4"
      },
      "execution_count": 339,
      "outputs": []
    },
    {
      "cell_type": "code",
      "source": [
        "\n",
        "target = ['n_killed']"
      ],
      "metadata": {
        "id": "q3RQ2G-LzeCQ"
      },
      "execution_count": 340,
      "outputs": []
    },
    {
      "cell_type": "code",
      "source": [
        "df = df[features_to_model + target]\n",
        "X = df[features_to_model]\n",
        "y = df[target]"
      ],
      "metadata": {
        "id": "1a5j-vCp8n4k"
      },
      "execution_count": 341,
      "outputs": []
    },
    {
      "cell_type": "code",
      "source": [
        "X_train, X_test, y_train, y_test = train_test_split(X, y, test_size=0.25)"
      ],
      "metadata": {
        "id": "TEDSrs0bV3-u"
      },
      "execution_count": 342,
      "outputs": []
    },
    {
      "cell_type": "code",
      "source": [
        "X_train = preprocess(X_train, X_train).reset_index(drop=True)"
      ],
      "metadata": {
        "id": "f9mUey0aWmD8"
      },
      "execution_count": 343,
      "outputs": []
    },
    {
      "cell_type": "code",
      "source": [
        "ind_train = X_train.loc[pd.isnull(X_train).any(1), :].index.values"
      ],
      "metadata": {
        "id": "4CJIhD8OdRRv"
      },
      "execution_count": 344,
      "outputs": []
    },
    {
      "cell_type": "code",
      "source": [
        "X_test = preprocess(X_test, X_train).reset_index(drop=True)"
      ],
      "metadata": {
        "id": "-TqgN_cGWrYp"
      },
      "execution_count": 345,
      "outputs": []
    },
    {
      "cell_type": "code",
      "source": [
        "ind_test = X_test.loc[pd.isnull(X_test).any(1), :].index.values"
      ],
      "metadata": {
        "id": "sNWqdT2EeSOd"
      },
      "execution_count": 346,
      "outputs": []
    },
    {
      "cell_type": "code",
      "source": [
        "y_test['n_killed'] = y_test['n_killed'].apply(lambda x: abs(x))\n",
        "y_train['n_killed'] = y_train['n_killed'].apply(lambda x: abs(x))"
      ],
      "metadata": {
        "id": "zgGFl2-0Zq01"
      },
      "execution_count": 347,
      "outputs": []
    },
    {
      "cell_type": "code",
      "source": [
        "X_test"
      ],
      "metadata": {
        "colab": {
          "base_uri": "https://localhost:8080/",
          "height": 505
        },
        "id": "bV9w4AIhfCYv",
        "outputId": "8cc700b8-9f39-4eb8-d5a5-530945a19ba9"
      },
      "execution_count": 348,
      "outputs": [
        {
          "output_type": "execute_result",
          "data": {
            "text/plain": [
              "      latitude  longitude  participant_gender_male  participant_gender_female  \\\n",
              "0      38.3726   -81.6572                      1.0                        0.0   \n",
              "1      42.4592   -70.9387                      1.0                        0.0   \n",
              "2      42.2512   -71.8305                      2.0                        0.0   \n",
              "3      40.7472   -73.9934                      1.0                        0.0   \n",
              "4      39.9250   -75.1040                      1.0                        0.0   \n",
              "...        ...        ...                      ...                        ...   \n",
              "7495   36.1373  -115.1360                      1.0                        1.0   \n",
              "7496   37.3715  -121.9300                      1.0                        0.0   \n",
              "7497   40.9540   -75.9736                      1.0                        0.0   \n",
              "7498   39.1875   -76.7900                      1.0                        0.0   \n",
              "7499   42.9758   -85.6785                      1.0                        0.0   \n",
              "\n",
              "      participant_adult  participant_teen  participant_child  gun_stolen_n  \\\n",
              "0                   1.0               0.0                0.0           0.0   \n",
              "1                   1.0               0.0                0.0           0.0   \n",
              "2                   2.0               0.0                0.0           0.0   \n",
              "3                   1.0               0.0                0.0           0.0   \n",
              "4                   1.0               0.0                0.0           0.0   \n",
              "...                 ...               ...                ...           ...   \n",
              "7495                2.0               0.0                0.0           0.0   \n",
              "7496                1.0               0.0                0.0           0.0   \n",
              "7497                1.0               0.0                0.0           0.0   \n",
              "7498                1.0               0.0                0.0           0.0   \n",
              "7499                1.0               0.0                0.0           0.0   \n",
              "\n",
              "      gun_unstolen_n  gun_unknown_n  ...  month_12  day_Monday  day_Saturday  \\\n",
              "0                0.0            0.0  ...         0           1             0   \n",
              "1                0.0            0.0  ...         0           0             1   \n",
              "2                0.0            0.0  ...         0           0             0   \n",
              "3                0.0            0.0  ...         0           0             0   \n",
              "4                0.0            0.0  ...         0           0             0   \n",
              "...              ...            ...  ...       ...         ...           ...   \n",
              "7495             0.0            0.0  ...         0           0             0   \n",
              "7496             0.0            0.0  ...         0           0             0   \n",
              "7497             0.0            0.0  ...         0           0             0   \n",
              "7498             0.0            0.0  ...         0           1             0   \n",
              "7499             0.0            0.0  ...         0           0             0   \n",
              "\n",
              "      day_Sunday  day_Thursday  day_Tuesday  day_Wednesday  \\\n",
              "0              0             0            0              0   \n",
              "1              0             0            0              0   \n",
              "2              0             0            0              1   \n",
              "3              0             0            0              1   \n",
              "4              0             1            0              0   \n",
              "...          ...           ...          ...            ...   \n",
              "7495           0             0            0              1   \n",
              "7496           0             1            0              0   \n",
              "7497           0             0            0              0   \n",
              "7498           0             0            0              0   \n",
              "7499           0             0            1              0   \n",
              "\n",
              "      n_guns_involved_2.0  n_guns_involved_3.0  n_guns_involved_4 or more  \n",
              "0                       0                    0                          0  \n",
              "1                       0                    0                          0  \n",
              "2                       0                    0                          0  \n",
              "3                       0                    0                          0  \n",
              "4                       0                    0                          1  \n",
              "...                   ...                  ...                        ...  \n",
              "7495                    0                    0                          0  \n",
              "7496                    0                    0                          0  \n",
              "7497                    0                    0                          0  \n",
              "7498                    0                    0                          1  \n",
              "7499                    0                    0                          1  \n",
              "\n",
              "[7500 rows x 136 columns]"
            ],
            "text/html": [
              "\n",
              "  <div id=\"df-e250a60f-09c9-4aa3-9c6d-d95233ea2c42\">\n",
              "    <div class=\"colab-df-container\">\n",
              "      <div>\n",
              "<style scoped>\n",
              "    .dataframe tbody tr th:only-of-type {\n",
              "        vertical-align: middle;\n",
              "    }\n",
              "\n",
              "    .dataframe tbody tr th {\n",
              "        vertical-align: top;\n",
              "    }\n",
              "\n",
              "    .dataframe thead th {\n",
              "        text-align: right;\n",
              "    }\n",
              "</style>\n",
              "<table border=\"1\" class=\"dataframe\">\n",
              "  <thead>\n",
              "    <tr style=\"text-align: right;\">\n",
              "      <th></th>\n",
              "      <th>latitude</th>\n",
              "      <th>longitude</th>\n",
              "      <th>participant_gender_male</th>\n",
              "      <th>participant_gender_female</th>\n",
              "      <th>participant_adult</th>\n",
              "      <th>participant_teen</th>\n",
              "      <th>participant_child</th>\n",
              "      <th>gun_stolen_n</th>\n",
              "      <th>gun_unstolen_n</th>\n",
              "      <th>gun_unknown_n</th>\n",
              "      <th>...</th>\n",
              "      <th>month_12</th>\n",
              "      <th>day_Monday</th>\n",
              "      <th>day_Saturday</th>\n",
              "      <th>day_Sunday</th>\n",
              "      <th>day_Thursday</th>\n",
              "      <th>day_Tuesday</th>\n",
              "      <th>day_Wednesday</th>\n",
              "      <th>n_guns_involved_2.0</th>\n",
              "      <th>n_guns_involved_3.0</th>\n",
              "      <th>n_guns_involved_4 or more</th>\n",
              "    </tr>\n",
              "  </thead>\n",
              "  <tbody>\n",
              "    <tr>\n",
              "      <th>0</th>\n",
              "      <td>38.3726</td>\n",
              "      <td>-81.6572</td>\n",
              "      <td>1.0</td>\n",
              "      <td>0.0</td>\n",
              "      <td>1.0</td>\n",
              "      <td>0.0</td>\n",
              "      <td>0.0</td>\n",
              "      <td>0.0</td>\n",
              "      <td>0.0</td>\n",
              "      <td>0.0</td>\n",
              "      <td>...</td>\n",
              "      <td>0</td>\n",
              "      <td>1</td>\n",
              "      <td>0</td>\n",
              "      <td>0</td>\n",
              "      <td>0</td>\n",
              "      <td>0</td>\n",
              "      <td>0</td>\n",
              "      <td>0</td>\n",
              "      <td>0</td>\n",
              "      <td>0</td>\n",
              "    </tr>\n",
              "    <tr>\n",
              "      <th>1</th>\n",
              "      <td>42.4592</td>\n",
              "      <td>-70.9387</td>\n",
              "      <td>1.0</td>\n",
              "      <td>0.0</td>\n",
              "      <td>1.0</td>\n",
              "      <td>0.0</td>\n",
              "      <td>0.0</td>\n",
              "      <td>0.0</td>\n",
              "      <td>0.0</td>\n",
              "      <td>0.0</td>\n",
              "      <td>...</td>\n",
              "      <td>0</td>\n",
              "      <td>0</td>\n",
              "      <td>1</td>\n",
              "      <td>0</td>\n",
              "      <td>0</td>\n",
              "      <td>0</td>\n",
              "      <td>0</td>\n",
              "      <td>0</td>\n",
              "      <td>0</td>\n",
              "      <td>0</td>\n",
              "    </tr>\n",
              "    <tr>\n",
              "      <th>2</th>\n",
              "      <td>42.2512</td>\n",
              "      <td>-71.8305</td>\n",
              "      <td>2.0</td>\n",
              "      <td>0.0</td>\n",
              "      <td>2.0</td>\n",
              "      <td>0.0</td>\n",
              "      <td>0.0</td>\n",
              "      <td>0.0</td>\n",
              "      <td>0.0</td>\n",
              "      <td>0.0</td>\n",
              "      <td>...</td>\n",
              "      <td>0</td>\n",
              "      <td>0</td>\n",
              "      <td>0</td>\n",
              "      <td>0</td>\n",
              "      <td>0</td>\n",
              "      <td>0</td>\n",
              "      <td>1</td>\n",
              "      <td>0</td>\n",
              "      <td>0</td>\n",
              "      <td>0</td>\n",
              "    </tr>\n",
              "    <tr>\n",
              "      <th>3</th>\n",
              "      <td>40.7472</td>\n",
              "      <td>-73.9934</td>\n",
              "      <td>1.0</td>\n",
              "      <td>0.0</td>\n",
              "      <td>1.0</td>\n",
              "      <td>0.0</td>\n",
              "      <td>0.0</td>\n",
              "      <td>0.0</td>\n",
              "      <td>0.0</td>\n",
              "      <td>0.0</td>\n",
              "      <td>...</td>\n",
              "      <td>0</td>\n",
              "      <td>0</td>\n",
              "      <td>0</td>\n",
              "      <td>0</td>\n",
              "      <td>0</td>\n",
              "      <td>0</td>\n",
              "      <td>1</td>\n",
              "      <td>0</td>\n",
              "      <td>0</td>\n",
              "      <td>0</td>\n",
              "    </tr>\n",
              "    <tr>\n",
              "      <th>4</th>\n",
              "      <td>39.9250</td>\n",
              "      <td>-75.1040</td>\n",
              "      <td>1.0</td>\n",
              "      <td>0.0</td>\n",
              "      <td>1.0</td>\n",
              "      <td>0.0</td>\n",
              "      <td>0.0</td>\n",
              "      <td>0.0</td>\n",
              "      <td>0.0</td>\n",
              "      <td>0.0</td>\n",
              "      <td>...</td>\n",
              "      <td>0</td>\n",
              "      <td>0</td>\n",
              "      <td>0</td>\n",
              "      <td>0</td>\n",
              "      <td>1</td>\n",
              "      <td>0</td>\n",
              "      <td>0</td>\n",
              "      <td>0</td>\n",
              "      <td>0</td>\n",
              "      <td>1</td>\n",
              "    </tr>\n",
              "    <tr>\n",
              "      <th>...</th>\n",
              "      <td>...</td>\n",
              "      <td>...</td>\n",
              "      <td>...</td>\n",
              "      <td>...</td>\n",
              "      <td>...</td>\n",
              "      <td>...</td>\n",
              "      <td>...</td>\n",
              "      <td>...</td>\n",
              "      <td>...</td>\n",
              "      <td>...</td>\n",
              "      <td>...</td>\n",
              "      <td>...</td>\n",
              "      <td>...</td>\n",
              "      <td>...</td>\n",
              "      <td>...</td>\n",
              "      <td>...</td>\n",
              "      <td>...</td>\n",
              "      <td>...</td>\n",
              "      <td>...</td>\n",
              "      <td>...</td>\n",
              "      <td>...</td>\n",
              "    </tr>\n",
              "    <tr>\n",
              "      <th>7495</th>\n",
              "      <td>36.1373</td>\n",
              "      <td>-115.1360</td>\n",
              "      <td>1.0</td>\n",
              "      <td>1.0</td>\n",
              "      <td>2.0</td>\n",
              "      <td>0.0</td>\n",
              "      <td>0.0</td>\n",
              "      <td>0.0</td>\n",
              "      <td>0.0</td>\n",
              "      <td>0.0</td>\n",
              "      <td>...</td>\n",
              "      <td>0</td>\n",
              "      <td>0</td>\n",
              "      <td>0</td>\n",
              "      <td>0</td>\n",
              "      <td>0</td>\n",
              "      <td>0</td>\n",
              "      <td>1</td>\n",
              "      <td>0</td>\n",
              "      <td>0</td>\n",
              "      <td>0</td>\n",
              "    </tr>\n",
              "    <tr>\n",
              "      <th>7496</th>\n",
              "      <td>37.3715</td>\n",
              "      <td>-121.9300</td>\n",
              "      <td>1.0</td>\n",
              "      <td>0.0</td>\n",
              "      <td>1.0</td>\n",
              "      <td>0.0</td>\n",
              "      <td>0.0</td>\n",
              "      <td>0.0</td>\n",
              "      <td>0.0</td>\n",
              "      <td>0.0</td>\n",
              "      <td>...</td>\n",
              "      <td>0</td>\n",
              "      <td>0</td>\n",
              "      <td>0</td>\n",
              "      <td>0</td>\n",
              "      <td>1</td>\n",
              "      <td>0</td>\n",
              "      <td>0</td>\n",
              "      <td>0</td>\n",
              "      <td>0</td>\n",
              "      <td>0</td>\n",
              "    </tr>\n",
              "    <tr>\n",
              "      <th>7497</th>\n",
              "      <td>40.9540</td>\n",
              "      <td>-75.9736</td>\n",
              "      <td>1.0</td>\n",
              "      <td>0.0</td>\n",
              "      <td>1.0</td>\n",
              "      <td>0.0</td>\n",
              "      <td>0.0</td>\n",
              "      <td>0.0</td>\n",
              "      <td>0.0</td>\n",
              "      <td>0.0</td>\n",
              "      <td>...</td>\n",
              "      <td>0</td>\n",
              "      <td>0</td>\n",
              "      <td>0</td>\n",
              "      <td>0</td>\n",
              "      <td>0</td>\n",
              "      <td>0</td>\n",
              "      <td>0</td>\n",
              "      <td>0</td>\n",
              "      <td>0</td>\n",
              "      <td>0</td>\n",
              "    </tr>\n",
              "    <tr>\n",
              "      <th>7498</th>\n",
              "      <td>39.1875</td>\n",
              "      <td>-76.7900</td>\n",
              "      <td>1.0</td>\n",
              "      <td>0.0</td>\n",
              "      <td>1.0</td>\n",
              "      <td>0.0</td>\n",
              "      <td>0.0</td>\n",
              "      <td>0.0</td>\n",
              "      <td>0.0</td>\n",
              "      <td>0.0</td>\n",
              "      <td>...</td>\n",
              "      <td>0</td>\n",
              "      <td>1</td>\n",
              "      <td>0</td>\n",
              "      <td>0</td>\n",
              "      <td>0</td>\n",
              "      <td>0</td>\n",
              "      <td>0</td>\n",
              "      <td>0</td>\n",
              "      <td>0</td>\n",
              "      <td>1</td>\n",
              "    </tr>\n",
              "    <tr>\n",
              "      <th>7499</th>\n",
              "      <td>42.9758</td>\n",
              "      <td>-85.6785</td>\n",
              "      <td>1.0</td>\n",
              "      <td>0.0</td>\n",
              "      <td>1.0</td>\n",
              "      <td>0.0</td>\n",
              "      <td>0.0</td>\n",
              "      <td>0.0</td>\n",
              "      <td>0.0</td>\n",
              "      <td>0.0</td>\n",
              "      <td>...</td>\n",
              "      <td>0</td>\n",
              "      <td>0</td>\n",
              "      <td>0</td>\n",
              "      <td>0</td>\n",
              "      <td>0</td>\n",
              "      <td>1</td>\n",
              "      <td>0</td>\n",
              "      <td>0</td>\n",
              "      <td>0</td>\n",
              "      <td>1</td>\n",
              "    </tr>\n",
              "  </tbody>\n",
              "</table>\n",
              "<p>7500 rows × 136 columns</p>\n",
              "</div>\n",
              "      <button class=\"colab-df-convert\" onclick=\"convertToInteractive('df-e250a60f-09c9-4aa3-9c6d-d95233ea2c42')\"\n",
              "              title=\"Convert this dataframe to an interactive table.\"\n",
              "              style=\"display:none;\">\n",
              "        \n",
              "  <svg xmlns=\"http://www.w3.org/2000/svg\" height=\"24px\"viewBox=\"0 0 24 24\"\n",
              "       width=\"24px\">\n",
              "    <path d=\"M0 0h24v24H0V0z\" fill=\"none\"/>\n",
              "    <path d=\"M18.56 5.44l.94 2.06.94-2.06 2.06-.94-2.06-.94-.94-2.06-.94 2.06-2.06.94zm-11 1L8.5 8.5l.94-2.06 2.06-.94-2.06-.94L8.5 2.5l-.94 2.06-2.06.94zm10 10l.94 2.06.94-2.06 2.06-.94-2.06-.94-.94-2.06-.94 2.06-2.06.94z\"/><path d=\"M17.41 7.96l-1.37-1.37c-.4-.4-.92-.59-1.43-.59-.52 0-1.04.2-1.43.59L10.3 9.45l-7.72 7.72c-.78.78-.78 2.05 0 2.83L4 21.41c.39.39.9.59 1.41.59.51 0 1.02-.2 1.41-.59l7.78-7.78 2.81-2.81c.8-.78.8-2.07 0-2.86zM5.41 20L4 18.59l7.72-7.72 1.47 1.35L5.41 20z\"/>\n",
              "  </svg>\n",
              "      </button>\n",
              "      \n",
              "  <style>\n",
              "    .colab-df-container {\n",
              "      display:flex;\n",
              "      flex-wrap:wrap;\n",
              "      gap: 12px;\n",
              "    }\n",
              "\n",
              "    .colab-df-convert {\n",
              "      background-color: #E8F0FE;\n",
              "      border: none;\n",
              "      border-radius: 50%;\n",
              "      cursor: pointer;\n",
              "      display: none;\n",
              "      fill: #1967D2;\n",
              "      height: 32px;\n",
              "      padding: 0 0 0 0;\n",
              "      width: 32px;\n",
              "    }\n",
              "\n",
              "    .colab-df-convert:hover {\n",
              "      background-color: #E2EBFA;\n",
              "      box-shadow: 0px 1px 2px rgba(60, 64, 67, 0.3), 0px 1px 3px 1px rgba(60, 64, 67, 0.15);\n",
              "      fill: #174EA6;\n",
              "    }\n",
              "\n",
              "    [theme=dark] .colab-df-convert {\n",
              "      background-color: #3B4455;\n",
              "      fill: #D2E3FC;\n",
              "    }\n",
              "\n",
              "    [theme=dark] .colab-df-convert:hover {\n",
              "      background-color: #434B5C;\n",
              "      box-shadow: 0px 1px 3px 1px rgba(0, 0, 0, 0.15);\n",
              "      filter: drop-shadow(0px 1px 2px rgba(0, 0, 0, 0.3));\n",
              "      fill: #FFFFFF;\n",
              "    }\n",
              "  </style>\n",
              "\n",
              "      <script>\n",
              "        const buttonEl =\n",
              "          document.querySelector('#df-e250a60f-09c9-4aa3-9c6d-d95233ea2c42 button.colab-df-convert');\n",
              "        buttonEl.style.display =\n",
              "          google.colab.kernel.accessAllowed ? 'block' : 'none';\n",
              "\n",
              "        async function convertToInteractive(key) {\n",
              "          const element = document.querySelector('#df-e250a60f-09c9-4aa3-9c6d-d95233ea2c42');\n",
              "          const dataTable =\n",
              "            await google.colab.kernel.invokeFunction('convertToInteractive',\n",
              "                                                     [key], {});\n",
              "          if (!dataTable) return;\n",
              "\n",
              "          const docLinkHtml = 'Like what you see? Visit the ' +\n",
              "            '<a target=\"_blank\" href=https://colab.research.google.com/notebooks/data_table.ipynb>data table notebook</a>'\n",
              "            + ' to learn more about interactive tables.';\n",
              "          element.innerHTML = '';\n",
              "          dataTable['output_type'] = 'display_data';\n",
              "          await google.colab.output.renderOutput(dataTable, element);\n",
              "          const docLink = document.createElement('div');\n",
              "          docLink.innerHTML = docLinkHtml;\n",
              "          element.appendChild(docLink);\n",
              "        }\n",
              "      </script>\n",
              "    </div>\n",
              "  </div>\n",
              "  "
            ]
          },
          "metadata": {},
          "execution_count": 348
        }
      ]
    },
    {
      "cell_type": "code",
      "source": [
        "X_train.drop(X_train.index[ind_train], inplace=True)\n",
        "y_train.drop(y_train.index[ind_train], inplace=True)\n",
        "X_test.drop(X_test.index[[ind_test]], inplace=True)\n",
        "y_test.drop(y_test.index[ind_test], inplace=True)"
      ],
      "metadata": {
        "id": "Ui4bdMQreitl"
      },
      "execution_count": 349,
      "outputs": []
    },
    {
      "cell_type": "code",
      "source": [
        "model_lr = LinearRegression().fit(X_train, y_train)\n",
        "model_rf = RandomForestRegressor().fit(X_train, y_train)"
      ],
      "metadata": {
        "id": "ExDIYFdAV7eh"
      },
      "execution_count": 350,
      "outputs": []
    },
    {
      "cell_type": "code",
      "source": [
        "rmse_lreg = np.sqrt(mean_squared_error(model_lr.predict(X_test), y_test))\n",
        "rmse_rfreg = np.sqrt(mean_squared_error(model_rf.predict(X_test), y_test))\n",
        "\n",
        "\n",
        "print(\"RMSE Linear Regression: {:.2f}\".format(rmse_lreg))\n",
        "print(\"RMSE Random Forest Regressor: {:.2f}\".format(rmse_rfreg))"
      ],
      "metadata": {
        "colab": {
          "base_uri": "https://localhost:8080/"
        },
        "id": "fBtypa1oV9Jd",
        "outputId": "fe9e648c-00b4-4a9b-c233-afd76d54de45"
      },
      "execution_count": 351,
      "outputs": [
        {
          "output_type": "stream",
          "name": "stdout",
          "text": [
            "RMSE Linear Regression: 0.49\n",
            "RMSE Random Forest Regressor: 0.49\n"
          ]
        }
      ]
    },
    {
      "cell_type": "markdown",
      "source": [
        "RMSE has the benefit of penalizing large errors more so can be more appropriate in some cases, for example, if being off by 10 is more than twice as bad as being off by 5. But if being off by 10 is just twice as bad as being off by 5, then MAE is more appropriate."
      ],
      "metadata": {
        "id": "9zXBaD-PlmBA"
      }
    },
    {
      "cell_type": "markdown",
      "source": [
        "From an interpretation standpoint, MAE is clearly the winner. RMSE does not describe average error alone and has other implications that are more difficult to tease out and understand."
      ],
      "metadata": {
        "id": "tBg0oT5PlsgB"
      }
    },
    {
      "cell_type": "markdown",
      "source": [
        "On the other hand, one distinct advantage of RMSE over MAE is that RMSE avoids the use of taking the absolute value, which is undesirable in many mathematical calculations."
      ],
      "metadata": {
        "id": "p2UXqO95lyJI"
      }
    },
    {
      "cell_type": "markdown",
      "source": [
        "I chose Linear Regression as it is basic and simple model for regression problems,\n",
        "its advantages are that the model is easy to made and from the coefficients we can understand the features.\n",
        "Thedisadvantages are that the model is very basic and as it is name only linear.\n",
        "\n",
        "Also I chose Random Forest Regressor because it is good model for tabular data.\n",
        "This model advantages usually it gives well predictions, and it is not linear.\n",
        "Its disadvantages are that hard to understand the predictions."
      ],
      "metadata": {
        "id": "0vFEouXIFX9y"
      }
    },
    {
      "cell_type": "markdown",
      "source": [
        "#Question 2"
      ],
      "metadata": {
        "id": "zwPXXg-9Xn_K"
      }
    },
    {
      "cell_type": "markdown",
      "source": [
        "As we discussed in class, I chose to use GridSearchCV and RandomizedSearchCV with RandomForestRegressor model."
      ],
      "metadata": {
        "id": "8CrlieIAksuu"
      }
    },
    {
      "cell_type": "code",
      "source": [
        "\n",
        "model = RandomForestRegressor(random_state=10)\n",
        "\n",
        "params_grid = {\n",
        "    'n_estimators': [2, 4, 8, 16, 64, 256],\n",
        "    'min_samples_leaf': [2, 4, 8, 16, 32],\n",
        "}\n",
        "\n",
        "n_configs = np.array([len(l) for key, l in params_grid.items()]).prod()\n",
        "print('n_configs', n_configs)\n",
        "\n",
        "grid = GridSearchCV(estimator=model, param_grid=params_grid, cv=5, verbose=1, scoring=make_scorer(mean_squared_error))\n",
        "\n",
        "grid.fit(X_train, y_train)\n",
        "\n",
        "print(\"Done grid search\")"
      ],
      "metadata": {
        "colab": {
          "base_uri": "https://localhost:8080/"
        },
        "id": "VAOC3HaQV_rb",
        "outputId": "1daeecb4-3457-487f-860a-cfd536911105"
      },
      "execution_count": 352,
      "outputs": [
        {
          "output_type": "stream",
          "name": "stdout",
          "text": [
            "n_configs 30\n",
            "Fitting 5 folds for each of 30 candidates, totalling 150 fits\n",
            "Done grid search\n"
          ]
        }
      ]
    },
    {
      "cell_type": "code",
      "source": [
        "print('Best parameters found in Grid Search', grid.best_params_)\n",
        "print('Best score in Grid Search', grid.best_score_)\n",
        "model_gs = grid.best_estimator_"
      ],
      "metadata": {
        "colab": {
          "base_uri": "https://localhost:8080/"
        },
        "id": "2GkDwafIgWAE",
        "outputId": "0e5bba02-256b-472f-9f21-95860a1698b7"
      },
      "execution_count": 353,
      "outputs": [
        {
          "output_type": "stream",
          "name": "stdout",
          "text": [
            "Best parameters found in Grid Search {'min_samples_leaf': 2, 'n_estimators': 2}\n",
            "Best score in Grid Search 0.3133818987091452\n"
          ]
        }
      ]
    },
    {
      "cell_type": "code",
      "source": [
        "model = RandomForestRegressor(random_state=10)\n",
        "\n",
        "dists = {\n",
        "    'n_estimators': randint(2, 256),\n",
        "    'min_samples_leaf': randint(2, 32)\n",
        "}\n",
        "\n",
        "rs = RandomizedSearchCV(estimator=model, param_distributions=dists, cv=5, verbose=1, scoring=make_scorer(mean_squared_error), n_iter=n_configs)\n",
        "\n",
        "rs.fit(X_train, y_train)\n",
        "\n",
        "print(\"Done random search\")"
      ],
      "metadata": {
        "colab": {
          "base_uri": "https://localhost:8080/"
        },
        "id": "D_MwUlv1gXoE",
        "outputId": "7f008da8-3170-4822-bff2-65e901b1e56c"
      },
      "execution_count": 354,
      "outputs": [
        {
          "output_type": "stream",
          "name": "stdout",
          "text": [
            "Fitting 5 folds for each of 30 candidates, totalling 150 fits\n",
            "Done random search\n"
          ]
        }
      ]
    },
    {
      "cell_type": "code",
      "source": [
        "print('Best parameters found in Random Search', rs.best_params_)\n",
        "print('Best score in Random Search', rs.best_score_)\n",
        "model_rs = rs.best_estimator_"
      ],
      "metadata": {
        "colab": {
          "base_uri": "https://localhost:8080/"
        },
        "id": "Sqygbz0KgZfs",
        "outputId": "70ce62c5-9c10-4827-d9b2-dc4ad5ffc5c4"
      },
      "execution_count": 355,
      "outputs": [
        {
          "output_type": "stream",
          "name": "stdout",
          "text": [
            "Best parameters found in Random Search {'min_samples_leaf': 2, 'n_estimators': 102}\n",
            "Best score in Random Search 0.23337630738764076\n"
          ]
        }
      ]
    },
    {
      "cell_type": "code",
      "source": [
        "mse_rs = mean_squared_error(y_test, model_rs.predict(X_test))\n",
        "mse_gs = mean_squared_error(y_test, model_gs.predict(X_test))\n",
        "print('MSE on test set - random search: ', mse_rs)\n",
        "print('MSE on test set - grid search: ', mse_gs)"
      ],
      "metadata": {
        "colab": {
          "base_uri": "https://localhost:8080/"
        },
        "id": "YsWD2a6lgcKE",
        "outputId": "a55612e5-5917-4e4d-b59a-95bf436d3602"
      },
      "execution_count": 356,
      "outputs": [
        {
          "output_type": "stream",
          "name": "stdout",
          "text": [
            "MSE on test set - random search:  0.2352295714953587\n",
            "MSE on test set - grid search:  0.31976288543137443\n"
          ]
        }
      ]
    },
    {
      "cell_type": "markdown",
      "source": [
        "As we can see from the results: models that chose best hyperparameter achieve better performances than the models in Q1."
      ],
      "metadata": {
        "id": "P1B8YnCCnhoA"
      }
    },
    {
      "cell_type": "markdown",
      "source": [
        "#Question 3 "
      ],
      "metadata": {
        "id": "wl6_zh7TsyBX"
      }
    },
    {
      "cell_type": "markdown",
      "source": [
        "##(a.)"
      ],
      "metadata": {
        "id": "cgV7pYzcz-Id"
      }
    },
    {
      "cell_type": "markdown",
      "source": [
        "I used the model from Q1"
      ],
      "metadata": {
        "id": "7udtyhXUn1bW"
      }
    },
    {
      "cell_type": "code",
      "source": [
        "y_hat = model_rf.predict(X_test)\n",
        "rmse_rfreg = np.sqrt(mean_squared_error(y_test, y_hat))\n",
        "mae_rfreg = mean_absolute_error(y_test, y_hat)\n",
        "r2 = model_rf.score(X_test, y_test)"
      ],
      "metadata": {
        "id": "YwSY2YzbgrbV"
      },
      "execution_count": 357,
      "outputs": []
    },
    {
      "cell_type": "code",
      "source": [
        "print(\"RMSE Random Forest Regressor: {:.2f}\".format(rmse_rfreg))\n",
        "print(\"MAE Random Forest Regressor: {:.2f}\".format(mae_rfreg))\n",
        "print(\"R^2 Score Random Forest Regressor: {:.2f}\".format(r2))"
      ],
      "metadata": {
        "colab": {
          "base_uri": "https://localhost:8080/"
        },
        "id": "82Bgjvd910aB",
        "outputId": "318bbb9e-ff3a-49ca-949f-cb0d48e8912e"
      },
      "execution_count": 358,
      "outputs": [
        {
          "output_type": "stream",
          "name": "stdout",
          "text": [
            "RMSE Random Forest Regressor: 0.49\n",
            "MAE Random Forest Regressor: 0.36\n",
            "R^2 Score Random Forest Regressor: 0.05\n"
          ]
        }
      ]
    },
    {
      "cell_type": "markdown",
      "source": [
        "Here I will calculate the important features as we saw in class."
      ],
      "metadata": {
        "id": "2S895K_NpabI"
      }
    },
    {
      "cell_type": "code",
      "source": [
        "def plot_feature_importance(model, features_names, n=20):\n",
        "    features_importance = pd.DataFrame(model.feature_importances_, features_names, columns=['importance'])\n",
        "    top_features_importance = features_importance.nlargest(n, columns=['importance'])\n",
        "    ax = sns.barplot(x=top_features_importance.index, y=top_features_importance['importance'])\n",
        "    ax.set_title('Features Importance')\n",
        "    plt.xticks(rotation=90)\n",
        "    plt.show()\n",
        "    return top_features_importance\n"
      ],
      "metadata": {
        "id": "96q_c3cStEYG"
      },
      "execution_count": 359,
      "outputs": []
    },
    {
      "cell_type": "code",
      "source": [
        "plot_feature_importance(model_rf, X_train.columns)"
      ],
      "metadata": {
        "colab": {
          "base_uri": "https://localhost:8080/",
          "height": 1000
        },
        "id": "sSzMMvqht1gA",
        "outputId": "e915a1e4-bdf4-4262-8f7e-576008f534c1"
      },
      "execution_count": 360,
      "outputs": [
        {
          "output_type": "display_data",
          "data": {
            "text/plain": [
              "<Figure size 432x288 with 1 Axes>"
            ],
            "image/png": "[encoded data removed]"
          },
          "metadata": {
            "needs_background": "light"
          }
        },
        {
          "output_type": "execute_result",
          "data": {
            "text/plain": [
              "                           importance\n",
              "latitude                     0.196288\n",
              "longitude                    0.192726\n",
              "participant_adult            0.074756\n",
              "participant_gender_female    0.037674\n",
              "participant_gender_male      0.031009\n",
              "state_mean_income            0.024246\n",
              "n_guns_involved_4 or more    0.018672\n",
              "day_Sunday                   0.015970\n",
              "year_2016                    0.015791\n",
              "day_Wednesday                0.015024\n",
              "year_2015                    0.015011\n",
              "day_Monday                   0.014744\n",
              "day_Thursday                 0.014656\n",
              "year_2017                    0.014249\n",
              "day_Saturday                 0.014226\n",
              "day_Tuesday                  0.014043\n",
              "year_2014                    0.013990\n",
              "month_7                      0.012562\n",
              "month_3                      0.012558\n",
              "month_6                      0.012286"
            ],
            "text/html": [
              "\n",
              "  <div id=\"df-5c6ea548-d1e7-49ad-a2d7-f905a7469a71\">\n",
              "    <div class=\"colab-df-container\">\n",
              "      <div>\n",
              "<style scoped>\n",
              "    .dataframe tbody tr th:only-of-type {\n",
              "        vertical-align: middle;\n",
              "    }\n",
              "\n",
              "    .dataframe tbody tr th {\n",
              "        vertical-align: top;\n",
              "    }\n",
              "\n",
              "    .dataframe thead th {\n",
              "        text-align: right;\n",
              "    }\n",
              "</style>\n",
              "<table border=\"1\" class=\"dataframe\">\n",
              "  <thead>\n",
              "    <tr style=\"text-align: right;\">\n",
              "      <th></th>\n",
              "      <th>importance</th>\n",
              "    </tr>\n",
              "  </thead>\n",
              "  <tbody>\n",
              "    <tr>\n",
              "      <th>latitude</th>\n",
              "      <td>0.196288</td>\n",
              "    </tr>\n",
              "    <tr>\n",
              "      <th>longitude</th>\n",
              "      <td>0.192726</td>\n",
              "    </tr>\n",
              "    <tr>\n",
              "      <th>participant_adult</th>\n",
              "      <td>0.074756</td>\n",
              "    </tr>\n",
              "    <tr>\n",
              "      <th>participant_gender_female</th>\n",
              "      <td>0.037674</td>\n",
              "    </tr>\n",
              "    <tr>\n",
              "      <th>participant_gender_male</th>\n",
              "      <td>0.031009</td>\n",
              "    </tr>\n",
              "    <tr>\n",
              "      <th>state_mean_income</th>\n",
              "      <td>0.024246</td>\n",
              "    </tr>\n",
              "    <tr>\n",
              "      <th>n_guns_involved_4 or more</th>\n",
              "      <td>0.018672</td>\n",
              "    </tr>\n",
              "    <tr>\n",
              "      <th>day_Sunday</th>\n",
              "      <td>0.015970</td>\n",
              "    </tr>\n",
              "    <tr>\n",
              "      <th>year_2016</th>\n",
              "      <td>0.015791</td>\n",
              "    </tr>\n",
              "    <tr>\n",
              "      <th>day_Wednesday</th>\n",
              "      <td>0.015024</td>\n",
              "    </tr>\n",
              "    <tr>\n",
              "      <th>year_2015</th>\n",
              "      <td>0.015011</td>\n",
              "    </tr>\n",
              "    <tr>\n",
              "      <th>day_Monday</th>\n",
              "      <td>0.014744</td>\n",
              "    </tr>\n",
              "    <tr>\n",
              "      <th>day_Thursday</th>\n",
              "      <td>0.014656</td>\n",
              "    </tr>\n",
              "    <tr>\n",
              "      <th>year_2017</th>\n",
              "      <td>0.014249</td>\n",
              "    </tr>\n",
              "    <tr>\n",
              "      <th>day_Saturday</th>\n",
              "      <td>0.014226</td>\n",
              "    </tr>\n",
              "    <tr>\n",
              "      <th>day_Tuesday</th>\n",
              "      <td>0.014043</td>\n",
              "    </tr>\n",
              "    <tr>\n",
              "      <th>year_2014</th>\n",
              "      <td>0.013990</td>\n",
              "    </tr>\n",
              "    <tr>\n",
              "      <th>month_7</th>\n",
              "      <td>0.012562</td>\n",
              "    </tr>\n",
              "    <tr>\n",
              "      <th>month_3</th>\n",
              "      <td>0.012558</td>\n",
              "    </tr>\n",
              "    <tr>\n",
              "      <th>month_6</th>\n",
              "      <td>0.012286</td>\n",
              "    </tr>\n",
              "  </tbody>\n",
              "</table>\n",
              "</div>\n",
              "      <button class=\"colab-df-convert\" onclick=\"convertToInteractive('df-5c6ea548-d1e7-49ad-a2d7-f905a7469a71')\"\n",
              "              title=\"Convert this dataframe to an interactive table.\"\n",
              "              style=\"display:none;\">\n",
              "        \n",
              "  <svg xmlns=\"http://www.w3.org/2000/svg\" height=\"24px\"viewBox=\"0 0 24 24\"\n",
              "       width=\"24px\">\n",
              "    <path d=\"M0 0h24v24H0V0z\" fill=\"none\"/>\n",
              "    <path d=\"M18.56 5.44l.94 2.06.94-2.06 2.06-.94-2.06-.94-.94-2.06-.94 2.06-2.06.94zm-11 1L8.5 8.5l.94-2.06 2.06-.94-2.06-.94L8.5 2.5l-.94 2.06-2.06.94zm10 10l.94 2.06.94-2.06 2.06-.94-2.06-.94-.94-2.06-.94 2.06-2.06.94z\"/><path d=\"M17.41 7.96l-1.37-1.37c-.4-.4-.92-.59-1.43-.59-.52 0-1.04.2-1.43.59L10.3 9.45l-7.72 7.72c-.78.78-.78 2.05 0 2.83L4 21.41c.39.39.9.59 1.41.59.51 0 1.02-.2 1.41-.59l7.78-7.78 2.81-2.81c.8-.78.8-2.07 0-2.86zM5.41 20L4 18.59l7.72-7.72 1.47 1.35L5.41 20z\"/>\n",
              "  </svg>\n",
              "      </button>\n",
              "      \n",
              "  <style>\n",
              "    .colab-df-container {\n",
              "      display:flex;\n",
              "      flex-wrap:wrap;\n",
              "      gap: 12px;\n",
              "    }\n",
              "\n",
              "    .colab-df-convert {\n",
              "      background-color: #E8F0FE;\n",
              "      border: none;\n",
              "      border-radius: 50%;\n",
              "      cursor: pointer;\n",
              "      display: none;\n",
              "      fill: #1967D2;\n",
              "      height: 32px;\n",
              "      padding: 0 0 0 0;\n",
              "      width: 32px;\n",
              "    }\n",
              "\n",
              "    .colab-df-convert:hover {\n",
              "      background-color: #E2EBFA;\n",
              "      box-shadow: 0px 1px 2px rgba(60, 64, 67, 0.3), 0px 1px 3px 1px rgba(60, 64, 67, 0.15);\n",
              "      fill: #174EA6;\n",
              "    }\n",
              "\n",
              "    [theme=dark] .colab-df-convert {\n",
              "      background-color: #3B4455;\n",
              "      fill: #D2E3FC;\n",
              "    }\n",
              "\n",
              "    [theme=dark] .colab-df-convert:hover {\n",
              "      background-color: #434B5C;\n",
              "      box-shadow: 0px 1px 3px 1px rgba(0, 0, 0, 0.15);\n",
              "      filter: drop-shadow(0px 1px 2px rgba(0, 0, 0, 0.3));\n",
              "      fill: #FFFFFF;\n",
              "    }\n",
              "  </style>\n",
              "\n",
              "      <script>\n",
              "        const buttonEl =\n",
              "          document.querySelector('#df-5c6ea548-d1e7-49ad-a2d7-f905a7469a71 button.colab-df-convert');\n",
              "        buttonEl.style.display =\n",
              "          google.colab.kernel.accessAllowed ? 'block' : 'none';\n",
              "\n",
              "        async function convertToInteractive(key) {\n",
              "          const element = document.querySelector('#df-5c6ea548-d1e7-49ad-a2d7-f905a7469a71');\n",
              "          const dataTable =\n",
              "            await google.colab.kernel.invokeFunction('convertToInteractive',\n",
              "                                                     [key], {});\n",
              "          if (!dataTable) return;\n",
              "\n",
              "          const docLinkHtml = 'Like what you see? Visit the ' +\n",
              "            '<a target=\"_blank\" href=https://colab.research.google.com/notebooks/data_table.ipynb>data table notebook</a>'\n",
              "            + ' to learn more about interactive tables.';\n",
              "          element.innerHTML = '';\n",
              "          dataTable['output_type'] = 'display_data';\n",
              "          await google.colab.output.renderOutput(dataTable, element);\n",
              "          const docLink = document.createElement('div');\n",
              "          docLink.innerHTML = docLinkHtml;\n",
              "          element.appendChild(docLink);\n",
              "        }\n",
              "      </script>\n",
              "    </div>\n",
              "  </div>\n",
              "  "
            ]
          },
          "metadata": {},
          "execution_count": 360
        }
      ]
    },
    {
      "cell_type": "markdown",
      "source": [
        "##(b)"
      ],
      "metadata": {
        "id": "nP3QKZPq0IOq"
      }
    },
    {
      "cell_type": "markdown",
      "source": [
        "Now I will train another model without the single most important feature"
      ],
      "metadata": {
        "id": "9HdJErPfvcK2"
      }
    },
    {
      "cell_type": "code",
      "source": [
        "X_train1 = X_train.drop(columns=['latitude'])\n",
        "model_less = RandomForestRegressor().fit(X_train1, y_train)\n",
        "X_test1 = X_test.drop(columns=['latitude'])"
      ],
      "metadata": {
        "id": "AKi0C-net4CS"
      },
      "execution_count": 361,
      "outputs": []
    },
    {
      "cell_type": "code",
      "source": [
        "pred1 = model_less.predict(X_test1)"
      ],
      "metadata": {
        "id": "cTxkaLrl1LAE"
      },
      "execution_count": 362,
      "outputs": []
    },
    {
      "cell_type": "code",
      "source": [
        "rmse1 = np.sqrt(mean_squared_error(y_test, pred1))\n",
        "mae1 = mean_absolute_error(y_test, pred1)\n",
        "less_r2 = model_less.score(X_test1, y_test)"
      ],
      "metadata": {
        "id": "XL_bNJ9y3EpP"
      },
      "execution_count": 363,
      "outputs": []
    },
    {
      "cell_type": "code",
      "source": [
        "print(\"RMSE without most important feature: {:.2f}\".format(rmse1))\n",
        "print(\"MAE without most important  feature: {:.2f}\".format(mae1))\n",
        "print(\"R^2 without most important  feature: {:.2f}\".format(less_r2))"
      ],
      "metadata": {
        "colab": {
          "base_uri": "https://localhost:8080/"
        },
        "id": "P80HHPEA3Wz8",
        "outputId": "7605c1ca-e6f4-416b-aa4c-b4d466976165"
      },
      "execution_count": 364,
      "outputs": [
        {
          "output_type": "stream",
          "name": "stdout",
          "text": [
            "RMSE without most important feature: 0.49\n",
            "MAE without most important  feature: 0.36\n",
            "R^2 without most important  feature: 0.04\n"
          ]
        }
      ]
    },
    {
      "cell_type": "code",
      "source": [
        "top4 = ['latitude', 'longitude', 'participant_adult', 'participant_gender_female']"
      ],
      "metadata": {
        "id": "RMM6r_KL32uK"
      },
      "execution_count": 365,
      "outputs": []
    },
    {
      "cell_type": "markdown",
      "source": [
        "Now I will train another model e with only the top 4."
      ],
      "metadata": {
        "id": "6_2Bv598vs0u"
      }
    },
    {
      "cell_type": "code",
      "source": [
        "X_train2 = X_train[top4]\n",
        "model_top4 = RandomForestRegressor().fit(X_train2, y_train)\n",
        "X_test2 = X_test[top4]"
      ],
      "metadata": {
        "id": "XSGKpmGe3q-z"
      },
      "execution_count": 366,
      "outputs": []
    },
    {
      "cell_type": "code",
      "source": [
        "pred2 = model_top4.predict(X_test2)"
      ],
      "metadata": {
        "id": "cw0kB9hv3wIv"
      },
      "execution_count": 367,
      "outputs": []
    },
    {
      "cell_type": "code",
      "source": [
        "rmse2 = np.sqrt(mean_squared_error(y_test, pred2))\n",
        "mae2 = mean_absolute_error(y_test, pred2)\n",
        "top4_r2 = model_top4.score(X_test2, y_test)\n"
      ],
      "metadata": {
        "id": "04JMqxcA3xW3"
      },
      "execution_count": 368,
      "outputs": []
    },
    {
      "cell_type": "code",
      "source": [
        "print(\"RMSE top 4 features: {:.2f}\".format(rmse2))\n",
        "print(\"MAE top 4 features: {:.2f}\".format(mae2))\n",
        "print(\"R^2 top 4 features: {:.2f}\".format(top4_r2))"
      ],
      "metadata": {
        "colab": {
          "base_uri": "https://localhost:8080/"
        },
        "id": "hbTL13MF3yoj",
        "outputId": "e6991bd6-05a6-4b95-f99b-bc49e1512d6d"
      },
      "execution_count": 369,
      "outputs": [
        {
          "output_type": "stream",
          "name": "stdout",
          "text": [
            "RMSE top 4 features: 0.52\n",
            "MAE top 4 features: 0.35\n",
            "R^2 top 4 features: -0.07\n"
          ]
        }
      ]
    },
    {
      "cell_type": "markdown",
      "source": [
        "We can conclude that the model without the most important feature performed better performance on the RMSE but it is small different than the model with top 4 features. \n",
        "\n",
        "Also I can see the metric of the model without the most important feature almost  same as the full model, the R^2 score on the full model is the best, and it make sence as they cant explain the data variance."
      ],
      "metadata": {
        "id": "WkZ1a43rv-gP"
      }
    },
    {
      "cell_type": "code",
      "source": [
        "plot_feature_importance(model_less, X_train1.columns)"
      ],
      "metadata": {
        "colab": {
          "base_uri": "https://localhost:8080/",
          "height": 1000
        },
        "id": "r-WGe5MG4idy",
        "outputId": "5337b550-5677-4297-d165-28c3c0cd0ef4"
      },
      "execution_count": 370,
      "outputs": [
        {
          "output_type": "display_data",
          "data": {
            "text/plain": [
              "<Figure size 432x288 with 1 Axes>"
            ],
            "image/png": "[encoded data removed]"
          },
          "metadata": {
            "needs_background": "light"
          }
        },
        {
          "output_type": "execute_result",
          "data": {
            "text/plain": [
              "                           importance\n",
              "longitude                    0.269087\n",
              "participant_adult            0.077295\n",
              "state_mean_income            0.035764\n",
              "participant_gender_male      0.035557\n",
              "participant_gender_female    0.035352\n",
              "n_guns_involved_4 or more    0.020465\n",
              "day_Sunday                   0.019371\n",
              "year_2016                    0.018985\n",
              "day_Thursday                 0.018009\n",
              "year_2015                    0.017817\n",
              "day_Wednesday                0.017503\n",
              "day_Saturday                 0.017319\n",
              "day_Tuesday                  0.017109\n",
              "year_2017                    0.016930\n",
              "day_Monday                   0.016886\n",
              "year_2014                    0.016139\n",
              "month_8                      0.014692\n",
              "month_3                      0.014616\n",
              "month_7                      0.014466\n",
              "month_4                      0.013962"
            ],
            "text/html": [
              "\n",
              "  <div id=\"df-cfb47de1-7eff-4df9-91a4-b1afeb225d9e\">\n",
              "    <div class=\"colab-df-container\">\n",
              "      <div>\n",
              "<style scoped>\n",
              "    .dataframe tbody tr th:only-of-type {\n",
              "        vertical-align: middle;\n",
              "    }\n",
              "\n",
              "    .dataframe tbody tr th {\n",
              "        vertical-align: top;\n",
              "    }\n",
              "\n",
              "    .dataframe thead th {\n",
              "        text-align: right;\n",
              "    }\n",
              "</style>\n",
              "<table border=\"1\" class=\"dataframe\">\n",
              "  <thead>\n",
              "    <tr style=\"text-align: right;\">\n",
              "      <th></th>\n",
              "      <th>importance</th>\n",
              "    </tr>\n",
              "  </thead>\n",
              "  <tbody>\n",
              "    <tr>\n",
              "      <th>longitude</th>\n",
              "      <td>0.269087</td>\n",
              "    </tr>\n",
              "    <tr>\n",
              "      <th>participant_adult</th>\n",
              "      <td>0.077295</td>\n",
              "    </tr>\n",
              "    <tr>\n",
              "      <th>state_mean_income</th>\n",
              "      <td>0.035764</td>\n",
              "    </tr>\n",
              "    <tr>\n",
              "      <th>participant_gender_male</th>\n",
              "      <td>0.035557</td>\n",
              "    </tr>\n",
              "    <tr>\n",
              "      <th>participant_gender_female</th>\n",
              "      <td>0.035352</td>\n",
              "    </tr>\n",
              "    <tr>\n",
              "      <th>n_guns_involved_4 or more</th>\n",
              "      <td>0.020465</td>\n",
              "    </tr>\n",
              "    <tr>\n",
              "      <th>day_Sunday</th>\n",
              "      <td>0.019371</td>\n",
              "    </tr>\n",
              "    <tr>\n",
              "      <th>year_2016</th>\n",
              "      <td>0.018985</td>\n",
              "    </tr>\n",
              "    <tr>\n",
              "      <th>day_Thursday</th>\n",
              "      <td>0.018009</td>\n",
              "    </tr>\n",
              "    <tr>\n",
              "      <th>year_2015</th>\n",
              "      <td>0.017817</td>\n",
              "    </tr>\n",
              "    <tr>\n",
              "      <th>day_Wednesday</th>\n",
              "      <td>0.017503</td>\n",
              "    </tr>\n",
              "    <tr>\n",
              "      <th>day_Saturday</th>\n",
              "      <td>0.017319</td>\n",
              "    </tr>\n",
              "    <tr>\n",
              "      <th>day_Tuesday</th>\n",
              "      <td>0.017109</td>\n",
              "    </tr>\n",
              "    <tr>\n",
              "      <th>year_2017</th>\n",
              "      <td>0.016930</td>\n",
              "    </tr>\n",
              "    <tr>\n",
              "      <th>day_Monday</th>\n",
              "      <td>0.016886</td>\n",
              "    </tr>\n",
              "    <tr>\n",
              "      <th>year_2014</th>\n",
              "      <td>0.016139</td>\n",
              "    </tr>\n",
              "    <tr>\n",
              "      <th>month_8</th>\n",
              "      <td>0.014692</td>\n",
              "    </tr>\n",
              "    <tr>\n",
              "      <th>month_3</th>\n",
              "      <td>0.014616</td>\n",
              "    </tr>\n",
              "    <tr>\n",
              "      <th>month_7</th>\n",
              "      <td>0.014466</td>\n",
              "    </tr>\n",
              "    <tr>\n",
              "      <th>month_4</th>\n",
              "      <td>0.013962</td>\n",
              "    </tr>\n",
              "  </tbody>\n",
              "</table>\n",
              "</div>\n",
              "      <button class=\"colab-df-convert\" onclick=\"convertToInteractive('df-cfb47de1-7eff-4df9-91a4-b1afeb225d9e')\"\n",
              "              title=\"Convert this dataframe to an interactive table.\"\n",
              "              style=\"display:none;\">\n",
              "        \n",
              "  <svg xmlns=\"http://www.w3.org/2000/svg\" height=\"24px\"viewBox=\"0 0 24 24\"\n",
              "       width=\"24px\">\n",
              "    <path d=\"M0 0h24v24H0V0z\" fill=\"none\"/>\n",
              "    <path d=\"M18.56 5.44l.94 2.06.94-2.06 2.06-.94-2.06-.94-.94-2.06-.94 2.06-2.06.94zm-11 1L8.5 8.5l.94-2.06 2.06-.94-2.06-.94L8.5 2.5l-.94 2.06-2.06.94zm10 10l.94 2.06.94-2.06 2.06-.94-2.06-.94-.94-2.06-.94 2.06-2.06.94z\"/><path d=\"M17.41 7.96l-1.37-1.37c-.4-.4-.92-.59-1.43-.59-.52 0-1.04.2-1.43.59L10.3 9.45l-7.72 7.72c-.78.78-.78 2.05 0 2.83L4 21.41c.39.39.9.59 1.41.59.51 0 1.02-.2 1.41-.59l7.78-7.78 2.81-2.81c.8-.78.8-2.07 0-2.86zM5.41 20L4 18.59l7.72-7.72 1.47 1.35L5.41 20z\"/>\n",
              "  </svg>\n",
              "      </button>\n",
              "      \n",
              "  <style>\n",
              "    .colab-df-container {\n",
              "      display:flex;\n",
              "      flex-wrap:wrap;\n",
              "      gap: 12px;\n",
              "    }\n",
              "\n",
              "    .colab-df-convert {\n",
              "      background-color: #E8F0FE;\n",
              "      border: none;\n",
              "      border-radius: 50%;\n",
              "      cursor: pointer;\n",
              "      display: none;\n",
              "      fill: #1967D2;\n",
              "      height: 32px;\n",
              "      padding: 0 0 0 0;\n",
              "      width: 32px;\n",
              "    }\n",
              "\n",
              "    .colab-df-convert:hover {\n",
              "      background-color: #E2EBFA;\n",
              "      box-shadow: 0px 1px 2px rgba(60, 64, 67, 0.3), 0px 1px 3px 1px rgba(60, 64, 67, 0.15);\n",
              "      fill: #174EA6;\n",
              "    }\n",
              "\n",
              "    [theme=dark] .colab-df-convert {\n",
              "      background-color: #3B4455;\n",
              "      fill: #D2E3FC;\n",
              "    }\n",
              "\n",
              "    [theme=dark] .colab-df-convert:hover {\n",
              "      background-color: #434B5C;\n",
              "      box-shadow: 0px 1px 3px 1px rgba(0, 0, 0, 0.15);\n",
              "      filter: drop-shadow(0px 1px 2px rgba(0, 0, 0, 0.3));\n",
              "      fill: #FFFFFF;\n",
              "    }\n",
              "  </style>\n",
              "\n",
              "      <script>\n",
              "        const buttonEl =\n",
              "          document.querySelector('#df-cfb47de1-7eff-4df9-91a4-b1afeb225d9e button.colab-df-convert');\n",
              "        buttonEl.style.display =\n",
              "          google.colab.kernel.accessAllowed ? 'block' : 'none';\n",
              "\n",
              "        async function convertToInteractive(key) {\n",
              "          const element = document.querySelector('#df-cfb47de1-7eff-4df9-91a4-b1afeb225d9e');\n",
              "          const dataTable =\n",
              "            await google.colab.kernel.invokeFunction('convertToInteractive',\n",
              "                                                     [key], {});\n",
              "          if (!dataTable) return;\n",
              "\n",
              "          const docLinkHtml = 'Like what you see? Visit the ' +\n",
              "            '<a target=\"_blank\" href=https://colab.research.google.com/notebooks/data_table.ipynb>data table notebook</a>'\n",
              "            + ' to learn more about interactive tables.';\n",
              "          element.innerHTML = '';\n",
              "          dataTable['output_type'] = 'display_data';\n",
              "          await google.colab.output.renderOutput(dataTable, element);\n",
              "          const docLink = document.createElement('div');\n",
              "          docLink.innerHTML = docLinkHtml;\n",
              "          element.appendChild(docLink);\n",
              "        }\n",
              "      </script>\n",
              "    </div>\n",
              "  </div>\n",
              "  "
            ]
          },
          "metadata": {},
          "execution_count": 370
        }
      ]
    },
    {
      "cell_type": "code",
      "source": [
        "plot_feature_importance(model_top4, X_train2.columns)"
      ],
      "metadata": {
        "colab": {
          "base_uri": "https://localhost:8080/",
          "height": 564
        },
        "id": "4ojjOqZf5I9a",
        "outputId": "c650240d-c834-4542-dc1f-6eeb9c69990f"
      },
      "execution_count": 371,
      "outputs": [
        {
          "output_type": "display_data",
          "data": {
            "text/plain": [
              "<Figure size 432x288 with 1 Axes>"
            ],
            "image/png": "[encoded data removed]"
          },
          "metadata": {
            "needs_background": "light"
          }
        },
        {
          "output_type": "execute_result",
          "data": {
            "text/plain": [
              "                           importance\n",
              "longitude                    0.428875\n",
              "latitude                     0.423944\n",
              "participant_adult            0.100899\n",
              "participant_gender_female    0.046282"
            ],
            "text/html": [
              "\n",
              "  <div id=\"df-ace1dccd-b9c6-45f5-bea6-e4e01067f02f\">\n",
              "    <div class=\"colab-df-container\">\n",
              "      <div>\n",
              "<style scoped>\n",
              "    .dataframe tbody tr th:only-of-type {\n",
              "        vertical-align: middle;\n",
              "    }\n",
              "\n",
              "    .dataframe tbody tr th {\n",
              "        vertical-align: top;\n",
              "    }\n",
              "\n",
              "    .dataframe thead th {\n",
              "        text-align: right;\n",
              "    }\n",
              "</style>\n",
              "<table border=\"1\" class=\"dataframe\">\n",
              "  <thead>\n",
              "    <tr style=\"text-align: right;\">\n",
              "      <th></th>\n",
              "      <th>importance</th>\n",
              "    </tr>\n",
              "  </thead>\n",
              "  <tbody>\n",
              "    <tr>\n",
              "      <th>longitude</th>\n",
              "      <td>0.428875</td>\n",
              "    </tr>\n",
              "    <tr>\n",
              "      <th>latitude</th>\n",
              "      <td>0.423944</td>\n",
              "    </tr>\n",
              "    <tr>\n",
              "      <th>participant_adult</th>\n",
              "      <td>0.100899</td>\n",
              "    </tr>\n",
              "    <tr>\n",
              "      <th>participant_gender_female</th>\n",
              "      <td>0.046282</td>\n",
              "    </tr>\n",
              "  </tbody>\n",
              "</table>\n",
              "</div>\n",
              "      <button class=\"colab-df-convert\" onclick=\"convertToInteractive('df-ace1dccd-b9c6-45f5-bea6-e4e01067f02f')\"\n",
              "              title=\"Convert this dataframe to an interactive table.\"\n",
              "              style=\"display:none;\">\n",
              "        \n",
              "  <svg xmlns=\"http://www.w3.org/2000/svg\" height=\"24px\"viewBox=\"0 0 24 24\"\n",
              "       width=\"24px\">\n",
              "    <path d=\"M0 0h24v24H0V0z\" fill=\"none\"/>\n",
              "    <path d=\"M18.56 5.44l.94 2.06.94-2.06 2.06-.94-2.06-.94-.94-2.06-.94 2.06-2.06.94zm-11 1L8.5 8.5l.94-2.06 2.06-.94-2.06-.94L8.5 2.5l-.94 2.06-2.06.94zm10 10l.94 2.06.94-2.06 2.06-.94-2.06-.94-.94-2.06-.94 2.06-2.06.94z\"/><path d=\"M17.41 7.96l-1.37-1.37c-.4-.4-.92-.59-1.43-.59-.52 0-1.04.2-1.43.59L10.3 9.45l-7.72 7.72c-.78.78-.78 2.05 0 2.83L4 21.41c.39.39.9.59 1.41.59.51 0 1.02-.2 1.41-.59l7.78-7.78 2.81-2.81c.8-.78.8-2.07 0-2.86zM5.41 20L4 18.59l7.72-7.72 1.47 1.35L5.41 20z\"/>\n",
              "  </svg>\n",
              "      </button>\n",
              "      \n",
              "  <style>\n",
              "    .colab-df-container {\n",
              "      display:flex;\n",
              "      flex-wrap:wrap;\n",
              "      gap: 12px;\n",
              "    }\n",
              "\n",
              "    .colab-df-convert {\n",
              "      background-color: #E8F0FE;\n",
              "      border: none;\n",
              "      border-radius: 50%;\n",
              "      cursor: pointer;\n",
              "      display: none;\n",
              "      fill: #1967D2;\n",
              "      height: 32px;\n",
              "      padding: 0 0 0 0;\n",
              "      width: 32px;\n",
              "    }\n",
              "\n",
              "    .colab-df-convert:hover {\n",
              "      background-color: #E2EBFA;\n",
              "      box-shadow: 0px 1px 2px rgba(60, 64, 67, 0.3), 0px 1px 3px 1px rgba(60, 64, 67, 0.15);\n",
              "      fill: #174EA6;\n",
              "    }\n",
              "\n",
              "    [theme=dark] .colab-df-convert {\n",
              "      background-color: #3B4455;\n",
              "      fill: #D2E3FC;\n",
              "    }\n",
              "\n",
              "    [theme=dark] .colab-df-convert:hover {\n",
              "      background-color: #434B5C;\n",
              "      box-shadow: 0px 1px 3px 1px rgba(0, 0, 0, 0.15);\n",
              "      filter: drop-shadow(0px 1px 2px rgba(0, 0, 0, 0.3));\n",
              "      fill: #FFFFFF;\n",
              "    }\n",
              "  </style>\n",
              "\n",
              "      <script>\n",
              "        const buttonEl =\n",
              "          document.querySelector('#df-ace1dccd-b9c6-45f5-bea6-e4e01067f02f button.colab-df-convert');\n",
              "        buttonEl.style.display =\n",
              "          google.colab.kernel.accessAllowed ? 'block' : 'none';\n",
              "\n",
              "        async function convertToInteractive(key) {\n",
              "          const element = document.querySelector('#df-ace1dccd-b9c6-45f5-bea6-e4e01067f02f');\n",
              "          const dataTable =\n",
              "            await google.colab.kernel.invokeFunction('convertToInteractive',\n",
              "                                                     [key], {});\n",
              "          if (!dataTable) return;\n",
              "\n",
              "          const docLinkHtml = 'Like what you see? Visit the ' +\n",
              "            '<a target=\"_blank\" href=https://colab.research.google.com/notebooks/data_table.ipynb>data table notebook</a>'\n",
              "            + ' to learn more about interactive tables.';\n",
              "          element.innerHTML = '';\n",
              "          dataTable['output_type'] = 'display_data';\n",
              "          await google.colab.output.renderOutput(dataTable, element);\n",
              "          const docLink = document.createElement('div');\n",
              "          docLink.innerHTML = docLinkHtml;\n",
              "          element.appendChild(docLink);\n",
              "        }\n",
              "      </script>\n",
              "    </div>\n",
              "  </div>\n",
              "  "
            ]
          },
          "metadata": {},
          "execution_count": 371
        }
      ]
    },
    {
      "cell_type": "markdown",
      "source": [
        "We can see in all the important feature importance that the the main features are still in high place."
      ],
      "metadata": {
        "id": "fOz0enUp5u0F"
      }
    },
    {
      "cell_type": "markdown",
      "source": [
        "#Question 4 "
      ],
      "metadata": {
        "id": "RLfN0er49jhB"
      }
    },
    {
      "cell_type": "code",
      "source": [
        "plt.scatter(y_test[\"n_killed\"], model_rf.predict(X_test), color = 'blue')\n",
        "plt.plot(list(range(7)), list(range(7)), color = 'red')\n",
        "plt.title('Target vs Model Prediction- (Test Set)')\n",
        "plt.xlabel('n_killed')\n",
        "plt.ylabel('n_killed')\n",
        "plt.show()"
      ],
      "metadata": {
        "colab": {
          "base_uri": "https://localhost:8080/",
          "height": 296
        },
        "id": "GyTTJsD35fBj",
        "outputId": "8daca059-c51d-4301-cda5-1f2e56ed2cf9"
      },
      "execution_count": 391,
      "outputs": [
        {
          "output_type": "display_data",
          "data": {
            "text/plain": [
              "<Figure size 432x288 with 1 Axes>"
            ],
            "image/png": "[encoded data removed]"
          },
          "metadata": {
            "needs_background": "light"
          }
        }
      ]
    },
    {
      "cell_type": "markdown",
      "source": [
        "We can see that the most of the times the model presict number between zero to 1.5, also we can conclude from the graph that the model doesnt predict well when n_killed getting higher."
      ],
      "metadata": {
        "id": "QJqScD2V8SJM"
      }
    },
    {
      "cell_type": "markdown",
      "source": [
        "Now we will calculate the error to look which rows had the biggests error and then we can conclude."
      ],
      "metadata": {
        "id": "iNcw5WRC8p58"
      }
    },
    {
      "cell_type": "markdown",
      "source": [
        "I normalized the error by sub the mean and divide by sd."
      ],
      "metadata": {
        "id": "EXsaRwLH9SI-"
      }
    },
    {
      "cell_type": "code",
      "source": [
        "e = list(y_test['n_killed']) - y_hat"
      ],
      "metadata": {
        "id": "ZWP7AE07B3Jx"
      },
      "execution_count": 392,
      "outputs": []
    },
    {
      "cell_type": "code",
      "source": [
        "e2 = y_test['n_killed'] - y_hat"
      ],
      "metadata": {
        "id": "w-88GYXXj3NZ"
      },
      "execution_count": 393,
      "outputs": []
    },
    {
      "cell_type": "code",
      "source": [
        "e_n = (e - np.mean(e)) / np.std(e)"
      ],
      "metadata": {
        "id": "mdCefbe099qn"
      },
      "execution_count": 394,
      "outputs": []
    },
    {
      "cell_type": "code",
      "source": [
        "e_n2 = (e2 - np.mean(e2)) / np.std(e2)"
      ],
      "metadata": {
        "id": "aA4POjM1j8Ar"
      },
      "execution_count": 395,
      "outputs": []
    },
    {
      "cell_type": "code",
      "source": [
        "e_n2.describe()"
      ],
      "metadata": {
        "colab": {
          "base_uri": "https://localhost:8080/"
        },
        "id": "w01I9Duq-F6e",
        "outputId": "127ac8dd-8e3f-4320-c461-43d20a93219f"
      },
      "execution_count": 396,
      "outputs": [
        {
          "output_type": "execute_result",
          "data": {
            "text/plain": [
              "count    7.235000e+03\n",
              "mean     9.820909e-18\n",
              "std      1.000069e+00\n",
              "min     -8.057771e+00\n",
              "25%     -5.417771e-01\n",
              "50%     -2.566174e-01\n",
              "75%      8.173694e-03\n",
              "max      9.336968e+00\n",
              "Name: n_killed, dtype: float64"
            ]
          },
          "metadata": {},
          "execution_count": 396
        }
      ]
    },
    {
      "cell_type": "markdown",
      "source": [
        "We can see the 28 rows that had the most error."
      ],
      "metadata": {
        "id": "JTjuSs6CCP5M"
      }
    },
    {
      "cell_type": "code",
      "source": [
        "X_test[np.abs(list(e_n)) > 4].head()"
      ],
      "metadata": {
        "colab": {
          "base_uri": "https://localhost:8080/",
          "height": 317
        },
        "id": "HAzgZXpGArmA",
        "outputId": "abd31e44-2ba4-4583-c8b4-79615e8c730f"
      },
      "execution_count": 397,
      "outputs": [
        {
          "output_type": "execute_result",
          "data": {
            "text/plain": [
              "      latitude  longitude  participant_gender_male  participant_gender_female  \\\n",
              "179    45.4629  -122.8980                     18.0                        6.0   \n",
              "524    34.9003  -114.5960                      2.0                        1.0   \n",
              "628    38.5809   -90.2985                      1.0                        2.0   \n",
              "685    29.9673   -90.1016                      5.0                        0.0   \n",
              "1341   36.1332   -95.8551                      2.0                        2.0   \n",
              "\n",
              "      participant_adult  participant_teen  participant_child  gun_stolen_n  \\\n",
              "179                30.0               0.0                0.0           2.0   \n",
              "524                 3.0               0.0                0.0           0.0   \n",
              "628                 2.0               0.0                1.0           0.0   \n",
              "685                 4.0               1.0                0.0           0.0   \n",
              "1341                2.0               0.0                2.0           0.0   \n",
              "\n",
              "      gun_unstolen_n  gun_unknown_n  ...  month_12  day_Monday  day_Saturday  \\\n",
              "179              0.0            0.0  ...         0           0             0   \n",
              "524              0.0            0.0  ...         1           0             0   \n",
              "628              0.0            0.0  ...         0           0             0   \n",
              "685              0.0            0.0  ...         0           0             1   \n",
              "1341             0.0            0.0  ...         0           0             0   \n",
              "\n",
              "      day_Sunday  day_Thursday  day_Tuesday  day_Wednesday  \\\n",
              "179            0             0            0              0   \n",
              "524            0             0            1              0   \n",
              "628            0             0            0              0   \n",
              "685            0             0            0              0   \n",
              "1341           0             0            1              0   \n",
              "\n",
              "      n_guns_involved_2.0  n_guns_involved_3.0  n_guns_involved_4 or more  \n",
              "179                     0                    0                          1  \n",
              "524                     0                    0                          0  \n",
              "628                     0                    0                          0  \n",
              "685                     0                    0                          0  \n",
              "1341                    0                    0                          1  \n",
              "\n",
              "[5 rows x 136 columns]"
            ],
            "text/html": [
              "\n",
              "  <div id=\"df-59ea1201-e29a-4dd0-9e9e-301aea58b6b5\">\n",
              "    <div class=\"colab-df-container\">\n",
              "      <div>\n",
              "<style scoped>\n",
              "    .dataframe tbody tr th:only-of-type {\n",
              "        vertical-align: middle;\n",
              "    }\n",
              "\n",
              "    .dataframe tbody tr th {\n",
              "        vertical-align: top;\n",
              "    }\n",
              "\n",
              "    .dataframe thead th {\n",
              "        text-align: right;\n",
              "    }\n",
              "</style>\n",
              "<table border=\"1\" class=\"dataframe\">\n",
              "  <thead>\n",
              "    <tr style=\"text-align: right;\">\n",
              "      <th></th>\n",
              "      <th>latitude</th>\n",
              "      <th>longitude</th>\n",
              "      <th>participant_gender_male</th>\n",
              "      <th>participant_gender_female</th>\n",
              "      <th>participant_adult</th>\n",
              "      <th>participant_teen</th>\n",
              "      <th>participant_child</th>\n",
              "      <th>gun_stolen_n</th>\n",
              "      <th>gun_unstolen_n</th>\n",
              "      <th>gun_unknown_n</th>\n",
              "      <th>...</th>\n",
              "      <th>month_12</th>\n",
              "      <th>day_Monday</th>\n",
              "      <th>day_Saturday</th>\n",
              "      <th>day_Sunday</th>\n",
              "      <th>day_Thursday</th>\n",
              "      <th>day_Tuesday</th>\n",
              "      <th>day_Wednesday</th>\n",
              "      <th>n_guns_involved_2.0</th>\n",
              "      <th>n_guns_involved_3.0</th>\n",
              "      <th>n_guns_involved_4 or more</th>\n",
              "    </tr>\n",
              "  </thead>\n",
              "  <tbody>\n",
              "    <tr>\n",
              "      <th>179</th>\n",
              "      <td>45.4629</td>\n",
              "      <td>-122.8980</td>\n",
              "      <td>18.0</td>\n",
              "      <td>6.0</td>\n",
              "      <td>30.0</td>\n",
              "      <td>0.0</td>\n",
              "      <td>0.0</td>\n",
              "      <td>2.0</td>\n",
              "      <td>0.0</td>\n",
              "      <td>0.0</td>\n",
              "      <td>...</td>\n",
              "      <td>0</td>\n",
              "      <td>0</td>\n",
              "      <td>0</td>\n",
              "      <td>0</td>\n",
              "      <td>0</td>\n",
              "      <td>0</td>\n",
              "      <td>0</td>\n",
              "      <td>0</td>\n",
              "      <td>0</td>\n",
              "      <td>1</td>\n",
              "    </tr>\n",
              "    <tr>\n",
              "      <th>524</th>\n",
              "      <td>34.9003</td>\n",
              "      <td>-114.5960</td>\n",
              "      <td>2.0</td>\n",
              "      <td>1.0</td>\n",
              "      <td>3.0</td>\n",
              "      <td>0.0</td>\n",
              "      <td>0.0</td>\n",
              "      <td>0.0</td>\n",
              "      <td>0.0</td>\n",
              "      <td>0.0</td>\n",
              "      <td>...</td>\n",
              "      <td>1</td>\n",
              "      <td>0</td>\n",
              "      <td>0</td>\n",
              "      <td>0</td>\n",
              "      <td>0</td>\n",
              "      <td>1</td>\n",
              "      <td>0</td>\n",
              "      <td>0</td>\n",
              "      <td>0</td>\n",
              "      <td>0</td>\n",
              "    </tr>\n",
              "    <tr>\n",
              "      <th>628</th>\n",
              "      <td>38.5809</td>\n",
              "      <td>-90.2985</td>\n",
              "      <td>1.0</td>\n",
              "      <td>2.0</td>\n",
              "      <td>2.0</td>\n",
              "      <td>0.0</td>\n",
              "      <td>1.0</td>\n",
              "      <td>0.0</td>\n",
              "      <td>0.0</td>\n",
              "      <td>0.0</td>\n",
              "      <td>...</td>\n",
              "      <td>0</td>\n",
              "      <td>0</td>\n",
              "      <td>0</td>\n",
              "      <td>0</td>\n",
              "      <td>0</td>\n",
              "      <td>0</td>\n",
              "      <td>0</td>\n",
              "      <td>0</td>\n",
              "      <td>0</td>\n",
              "      <td>0</td>\n",
              "    </tr>\n",
              "    <tr>\n",
              "      <th>685</th>\n",
              "      <td>29.9673</td>\n",
              "      <td>-90.1016</td>\n",
              "      <td>5.0</td>\n",
              "      <td>0.0</td>\n",
              "      <td>4.0</td>\n",
              "      <td>1.0</td>\n",
              "      <td>0.0</td>\n",
              "      <td>0.0</td>\n",
              "      <td>0.0</td>\n",
              "      <td>0.0</td>\n",
              "      <td>...</td>\n",
              "      <td>0</td>\n",
              "      <td>0</td>\n",
              "      <td>1</td>\n",
              "      <td>0</td>\n",
              "      <td>0</td>\n",
              "      <td>0</td>\n",
              "      <td>0</td>\n",
              "      <td>0</td>\n",
              "      <td>0</td>\n",
              "      <td>0</td>\n",
              "    </tr>\n",
              "    <tr>\n",
              "      <th>1341</th>\n",
              "      <td>36.1332</td>\n",
              "      <td>-95.8551</td>\n",
              "      <td>2.0</td>\n",
              "      <td>2.0</td>\n",
              "      <td>2.0</td>\n",
              "      <td>0.0</td>\n",
              "      <td>2.0</td>\n",
              "      <td>0.0</td>\n",
              "      <td>0.0</td>\n",
              "      <td>0.0</td>\n",
              "      <td>...</td>\n",
              "      <td>0</td>\n",
              "      <td>0</td>\n",
              "      <td>0</td>\n",
              "      <td>0</td>\n",
              "      <td>0</td>\n",
              "      <td>1</td>\n",
              "      <td>0</td>\n",
              "      <td>0</td>\n",
              "      <td>0</td>\n",
              "      <td>1</td>\n",
              "    </tr>\n",
              "  </tbody>\n",
              "</table>\n",
              "<p>5 rows × 136 columns</p>\n",
              "</div>\n",
              "      <button class=\"colab-df-convert\" onclick=\"convertToInteractive('df-59ea1201-e29a-4dd0-9e9e-301aea58b6b5')\"\n",
              "              title=\"Convert this dataframe to an interactive table.\"\n",
              "              style=\"display:none;\">\n",
              "        \n",
              "  <svg xmlns=\"http://www.w3.org/2000/svg\" height=\"24px\"viewBox=\"0 0 24 24\"\n",
              "       width=\"24px\">\n",
              "    <path d=\"M0 0h24v24H0V0z\" fill=\"none\"/>\n",
              "    <path d=\"M18.56 5.44l.94 2.06.94-2.06 2.06-.94-2.06-.94-.94-2.06-.94 2.06-2.06.94zm-11 1L8.5 8.5l.94-2.06 2.06-.94-2.06-.94L8.5 2.5l-.94 2.06-2.06.94zm10 10l.94 2.06.94-2.06 2.06-.94-2.06-.94-.94-2.06-.94 2.06-2.06.94z\"/><path d=\"M17.41 7.96l-1.37-1.37c-.4-.4-.92-.59-1.43-.59-.52 0-1.04.2-1.43.59L10.3 9.45l-7.72 7.72c-.78.78-.78 2.05 0 2.83L4 21.41c.39.39.9.59 1.41.59.51 0 1.02-.2 1.41-.59l7.78-7.78 2.81-2.81c.8-.78.8-2.07 0-2.86zM5.41 20L4 18.59l7.72-7.72 1.47 1.35L5.41 20z\"/>\n",
              "  </svg>\n",
              "      </button>\n",
              "      \n",
              "  <style>\n",
              "    .colab-df-container {\n",
              "      display:flex;\n",
              "      flex-wrap:wrap;\n",
              "      gap: 12px;\n",
              "    }\n",
              "\n",
              "    .colab-df-convert {\n",
              "      background-color: #E8F0FE;\n",
              "      border: none;\n",
              "      border-radius: 50%;\n",
              "      cursor: pointer;\n",
              "      display: none;\n",
              "      fill: #1967D2;\n",
              "      height: 32px;\n",
              "      padding: 0 0 0 0;\n",
              "      width: 32px;\n",
              "    }\n",
              "\n",
              "    .colab-df-convert:hover {\n",
              "      background-color: #E2EBFA;\n",
              "      box-shadow: 0px 1px 2px rgba(60, 64, 67, 0.3), 0px 1px 3px 1px rgba(60, 64, 67, 0.15);\n",
              "      fill: #174EA6;\n",
              "    }\n",
              "\n",
              "    [theme=dark] .colab-df-convert {\n",
              "      background-color: #3B4455;\n",
              "      fill: #D2E3FC;\n",
              "    }\n",
              "\n",
              "    [theme=dark] .colab-df-convert:hover {\n",
              "      background-color: #434B5C;\n",
              "      box-shadow: 0px 1px 3px 1px rgba(0, 0, 0, 0.15);\n",
              "      filter: drop-shadow(0px 1px 2px rgba(0, 0, 0, 0.3));\n",
              "      fill: #FFFFFF;\n",
              "    }\n",
              "  </style>\n",
              "\n",
              "      <script>\n",
              "        const buttonEl =\n",
              "          document.querySelector('#df-59ea1201-e29a-4dd0-9e9e-301aea58b6b5 button.colab-df-convert');\n",
              "        buttonEl.style.display =\n",
              "          google.colab.kernel.accessAllowed ? 'block' : 'none';\n",
              "\n",
              "        async function convertToInteractive(key) {\n",
              "          const element = document.querySelector('#df-59ea1201-e29a-4dd0-9e9e-301aea58b6b5');\n",
              "          const dataTable =\n",
              "            await google.colab.kernel.invokeFunction('convertToInteractive',\n",
              "                                                     [key], {});\n",
              "          if (!dataTable) return;\n",
              "\n",
              "          const docLinkHtml = 'Like what you see? Visit the ' +\n",
              "            '<a target=\"_blank\" href=https://colab.research.google.com/notebooks/data_table.ipynb>data table notebook</a>'\n",
              "            + ' to learn more about interactive tables.';\n",
              "          element.innerHTML = '';\n",
              "          dataTable['output_type'] = 'display_data';\n",
              "          await google.colab.output.renderOutput(dataTable, element);\n",
              "          const docLink = document.createElement('div');\n",
              "          docLink.innerHTML = docLinkHtml;\n",
              "          element.appendChild(docLink);\n",
              "        }\n",
              "      </script>\n",
              "    </div>\n",
              "  </div>\n",
              "  "
            ]
          },
          "metadata": {},
          "execution_count": 397
        }
      ]
    },
    {
      "cell_type": "code",
      "source": [
        "outliers = X_test[np.abs(list(e_n)) > 3]\n",
        "not_outliers = X_test[~(np.abs(list(e_n)) > 3)]"
      ],
      "metadata": {
        "id": "AqhmoMLHAEvT"
      },
      "execution_count": 398,
      "outputs": []
    },
    {
      "cell_type": "code",
      "source": [
        "lst = ['longitude','participant_adult','participant_gender_female','state_mean_income','participant_gender_male','n_guns_involved_4 or more','day_Wednesday','day_Monday','day_Saturday']"
      ],
      "metadata": {
        "id": "7nFGFTh1C_mt"
      },
      "execution_count": 400,
      "outputs": []
    },
    {
      "cell_type": "code",
      "source": [
        "sns.heatmap(X_test[lst].corr(), annot=True, fmt=\".1f\")"
      ],
      "metadata": {
        "colab": {
          "base_uri": "https://localhost:8080/",
          "height": 413
        },
        "id": "4bHiiALNEQF4",
        "outputId": "98bc4090-31fa-4a83-c6e5-b3da771dcbbd"
      },
      "execution_count": 401,
      "outputs": [
        {
          "output_type": "execute_result",
          "data": {
            "text/plain": [
              "<matplotlib.axes._subplots.AxesSubplot at 0x7f516cfd5f50>"
            ]
          },
          "metadata": {},
          "execution_count": 401
        },
        {
          "output_type": "display_data",
          "data": {
            "text/plain": [
              "<Figure size 432x288 with 2 Axes>"
            ],
            "image/png": "[encoded data removed]"
          },
          "metadata": {
            "needs_background": "light"
          }
        }
      ]
    },
    {
      "cell_type": "code",
      "source": [
        "sns.heatmap(not_outliers[lst].corr(), annot=True, fmt=\".1f\")"
      ],
      "metadata": {
        "colab": {
          "base_uri": "https://localhost:8080/",
          "height": 413
        },
        "id": "6XL7SUXHEmuu",
        "outputId": "d0b16755-fbf8-44b2-87cc-2e4b610e0295"
      },
      "execution_count": 402,
      "outputs": [
        {
          "output_type": "execute_result",
          "data": {
            "text/plain": [
              "<matplotlib.axes._subplots.AxesSubplot at 0x7f516ce41fd0>"
            ]
          },
          "metadata": {},
          "execution_count": 402
        },
        {
          "output_type": "display_data",
          "data": {
            "text/plain": [
              "<Figure size 432x288 with 2 Axes>"
            ],
            "image/png": "[encoded data removed]"
          },
          "metadata": {
            "needs_background": "light"
          }
        }
      ]
    },
    {
      "cell_type": "markdown",
      "source": [
        "We can notice that the important features correlation are very similar between the outliers and the normal data."
      ],
      "metadata": {
        "id": "MmSsX5ibG_-a"
      }
    },
    {
      "cell_type": "code",
      "source": [
        "outliers['participant_gender_male'].mean()"
      ],
      "metadata": {
        "colab": {
          "base_uri": "https://localhost:8080/"
        },
        "id": "LRgxfOexEvpN",
        "outputId": "7e7a2cbd-31f7-4403-e4fb-6f0659748861"
      },
      "execution_count": 403,
      "outputs": [
        {
          "output_type": "execute_result",
          "data": {
            "text/plain": [
              "2.0727272727272728"
            ]
          },
          "metadata": {},
          "execution_count": 403
        }
      ]
    },
    {
      "cell_type": "code",
      "source": [
        "not_outliers['participant_gender_male'].mean()"
      ],
      "metadata": {
        "colab": {
          "base_uri": "https://localhost:8080/"
        },
        "id": "3QPINpc7HrrG",
        "outputId": "f696bf04-470b-4e46-d7f4-c668ce97d2e8"
      },
      "execution_count": 404,
      "outputs": [
        {
          "output_type": "execute_result",
          "data": {
            "text/plain": [
              "1.4137543859649122"
            ]
          },
          "metadata": {},
          "execution_count": 404
        }
      ]
    },
    {
      "cell_type": "code",
      "source": [
        "outliers['n_guns_involved_4 or more'].mean()"
      ],
      "metadata": {
        "colab": {
          "base_uri": "https://localhost:8080/"
        },
        "id": "Kv9CRaBGHvoN",
        "outputId": "0ca323f9-9917-492b-c218-7b0623335e8e"
      },
      "execution_count": 405,
      "outputs": [
        {
          "output_type": "execute_result",
          "data": {
            "text/plain": [
              "0.39090909090909093"
            ]
          },
          "metadata": {},
          "execution_count": 405
        }
      ]
    },
    {
      "cell_type": "code",
      "source": [
        "not_outliers['n_guns_involved_4 or more'].mean()"
      ],
      "metadata": {
        "colab": {
          "base_uri": "https://localhost:8080/"
        },
        "id": "Zc6AMKaJHyAS",
        "outputId": "96ae9c09-087e-4a34-d4f5-7facc889aca0"
      },
      "execution_count": 406,
      "outputs": [
        {
          "output_type": "execute_result",
          "data": {
            "text/plain": [
              "0.447859649122807"
            ]
          },
          "metadata": {},
          "execution_count": 406
        }
      ]
    },
    {
      "cell_type": "markdown",
      "source": [
        "We can see for wxample these two differences between the outliers data and the normal data, and we can conclude that maybe with more data we could predict better."
      ],
      "metadata": {
        "id": "VysZHFDDIoE9"
      }
    },
    {
      "cell_type": "code",
      "source": [],
      "metadata": {
        "id": "7xOubP4eJGx2"
      },
      "execution_count": 406,
      "outputs": []
    }
  ]
}